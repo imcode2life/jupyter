{
 "cells": [
  {
   "cell_type": "code",
   "execution_count": 6,
   "id": "2f67e401",
   "metadata": {},
   "outputs": [
    {
     "name": "stdout",
     "output_type": "stream",
     "text": [
      "{46: 21, 47: 24, 48: 32, 49: 12, 50: 22}\n"
     ]
    }
   ],
   "source": [
    "from typing import OrderedDict\n",
    "\n",
    "traded_open_order_dict = {51: 22, 50: 12, 49: 32, 48: 24, 47: 21}\n",
    "\n",
    "key_copy = tuple(traded_open_order_dict.keys())\n",
    "for k in sorted(key_copy):\n",
    "    if traded_open_order_dict[k] == 0.0:\n",
    "        del traded_open_order_dict[k]\n",
    "        continue\n",
    "    \n",
    "    v = traded_open_order_dict[k]\n",
    "    traded_open_order_dict[k - 1] = v\n",
    "    del traded_open_order_dict[k]\n",
    "\n",
    "print(traded_open_order_dict)"
   ]
  },
  {
   "cell_type": "code",
   "execution_count": 2,
   "id": "cf56dd20",
   "metadata": {},
   "outputs": [
    {
     "name": "stdout",
     "output_type": "stream",
     "text": [
      "1330.25\n"
     ]
    }
   ],
   "source": [
    "print(round(1330.25, 2))"
   ]
  },
  {
   "cell_type": "code",
   "execution_count": null,
   "id": "d1ac9010",
   "metadata": {},
   "outputs": [],
   "source": [
    "a = 1\n",
    "b = 2\n",
    "c = 3\n",
    "if a == 1:\n",
    "    if b == 1:\n",
    "        a = 0\n",
    "        pass\n",
    "        print(p)\n",
    "\n",
    "    if self.long_diff_price > 0 and self.pos_volume[SHORT] > 0:\n",
    "        if (self.close_price - self.entry_price[SHORT]) < self.long_diff_price * self.loss_percent:\n",
    "            self.long_diff_price = 0\n",
    "            self.cover(0, self.pos_volume[SHORT])"
   ]
  },
  {
   "cell_type": "code",
   "execution_count": 22,
   "id": "45f9f6a1",
   "metadata": {},
   "outputs": [
    {
     "name": "stdout",
     "output_type": "stream",
     "text": [
      "2022-08-27 01:10:04.648713\n",
      "2022-08-27 01:10:04.648713+00:00\n"
     ]
    }
   ],
   "source": [
    "from pytz import utc as UTC_TZ\n",
    "from datetime import datetime\n",
    "\n",
    "dt = datetime.fromtimestamp(float(1661530204648713000/1000000000))\n",
    "print(dt)\n",
    "dt = UTC_TZ.localize(dt)\n",
    "print(dt)"
   ]
  },
  {
   "cell_type": "code",
   "execution_count": 4,
   "id": "ac189c19",
   "metadata": {},
   "outputs": [
    {
     "name": "stdout",
     "output_type": "stream",
     "text": [
      "1875.32 0.006\n",
      "1874.32 0.007\n",
      "1873.32 0.007\n",
      "1872.32 0.008\n",
      "1871.32 0.008\n",
      "1870.32 0.009\n",
      "1869.32 0.01\n",
      "1868.32 0.01\n",
      "1867.32 0.011\n",
      "1866.32 0.011\n",
      "1865.32 0.012\n"
     ]
    }
   ],
   "source": [
    "import numpy as np\n",
    "init_volume = 0.006\n",
    "volume = 0.006 * (1875.32-1859.33)\n",
    "entry_price = 1857.52\n",
    "for x in np.arange(1875.32, 1859.33, -1):\n",
    "    if x > entry_price:\n",
    "        if volume < 0.006:\n",
    "            v = round(volume, 3)\n",
    "        else:\n",
    "            v = round(0.006 * (1 + (1875.32 - x) * 0.1), 3)\n",
    "        print(x, v)\n",
    "\n",
    "        volume -= v\n",
    "    else:\n",
    "        v = volume\n",
    "        print(x, v)\n",
    "        volume = 0\n",
    "    \n",
    "    if volume <= 0:\n",
    "        break\n",
    "    "
   ]
  },
  {
   "cell_type": "code",
   "execution_count": 70,
   "id": "f712bf0f",
   "metadata": {},
   "outputs": [
    {
     "name": "stdout",
     "output_type": "stream",
     "text": [
      "47\n",
      "48\n",
      "49\n",
      "{49: 17, 50: 12, 51: 22}\n"
     ]
    }
   ],
   "source": [
    "from typing import OrderedDict\n",
    "\n",
    "traded_open_order_dict = {47: 21, 48: 24, 49: 32, 50: 12, 51: 22}\n",
    "price = 50.7\n",
    "close_volume = 60\n",
    "\n",
    "key_copy = tuple(traded_open_order_dict.keys())\n",
    "for k in sorted(key_copy):\n",
    "    print(k)\n",
    "    if price > k and close_volume > 0:\n",
    "        if close_volume > traded_open_order_dict[k]:\n",
    "            close_volume -= traded_open_order_dict[k]\n",
    "            del traded_open_order_dict[k]\n",
    "        elif close_volume == traded_open_order_dict[k]:\n",
    "            del traded_open_order_dict[k]\n",
    "            close_volume = 0\n",
    "            break\n",
    "        else:\n",
    "            traded_open_order_dict[k] -= close_volume\n",
    "            close_volume = 0\n",
    "            break\n",
    "\n",
    "print(traded_open_order_dict)"
   ]
  },
  {
   "cell_type": "code",
   "execution_count": 74,
   "id": "18c0a70c",
   "metadata": {},
   "outputs": [
    {
     "name": "stdout",
     "output_type": "stream",
     "text": [
      "66\n"
     ]
    }
   ],
   "source": [
    "traded_short_open_order_dict = {47: 21, 48: 24, 49: 32, 50: 12, 51: 22}\n",
    "key_copy_short = tuple(traded_short_open_order_dict.keys())\n",
    "price = 48.5\n",
    "close_volume = 0\n",
    "for k in sorted(key_copy_short, reverse=True):\n",
    "    if k > price:\n",
    "        close_volume += traded_short_open_order_dict[k]\n",
    "print(close_volume)"
   ]
  },
  {
   "cell_type": "code",
   "execution_count": 76,
   "id": "03a316ba",
   "metadata": {},
   "outputs": [
    {
     "name": "stdout",
     "output_type": "stream",
     "text": [
      "45\n"
     ]
    }
   ],
   "source": [
    "traded_long_open_order_dict = {51: 22, 50: 12, 49: 32, 48: 24, 47: 21}\n",
    "key_copy_short = tuple(traded_long_open_order_dict.keys())\n",
    "price = 48.5\n",
    "close_volume = 0\n",
    "key_copy_long = tuple(traded_long_open_order_dict.keys())\n",
    "for k in sorted(key_copy_long):\n",
    "    if price > k:\n",
    "        close_volume += traded_long_open_order_dict[k]\n",
    "print(close_volume)"
   ]
  },
  {
   "cell_type": "code",
   "execution_count": 2,
   "id": "07db6416",
   "metadata": {},
   "outputs": [
    {
     "name": "stdout",
     "output_type": "stream",
     "text": [
      "47\n"
     ]
    }
   ],
   "source": [
    "traded_open_order_dict = {51: 22, 50: 12, 49: 32, 48: 24, 47: 21}\n",
    "print(min(traded_open_order_dict.keys()))"
   ]
  },
  {
   "cell_type": "code",
   "execution_count": 5,
   "id": "8f4d6042",
   "metadata": {},
   "outputs": [
    {
     "name": "stdout",
     "output_type": "stream",
     "text": [
      "SHORT\n"
     ]
    }
   ],
   "source": [
    "from typing import Dict\n",
    "\n",
    "OPPOSITE_DIRECTION: Dict[str, str] = {'LONG': 'SHORT', 'SHORT': 'LONG'}\n",
    "print(OPPOSITE_DIRECTION['LONG'])"
   ]
  },
  {
   "cell_type": "code",
   "execution_count": 8,
   "id": "dd8612b9",
   "metadata": {},
   "outputs": [
    {
     "name": "stdout",
     "output_type": "stream",
     "text": [
      "1655540669.4109561\n"
     ]
    }
   ],
   "source": [
    "# from datetime import time\n",
    "from time import sleep, time\n",
    "\n",
    "now = time()\n",
    "\n",
    "print(now)"
   ]
  },
  {
   "cell_type": "code",
   "execution_count": 1,
   "id": "f30ff502",
   "metadata": {},
   "outputs": [
    {
     "name": "stdout",
     "output_type": "stream",
     "text": [
      "4\n"
     ]
    }
   ],
   "source": [
    "step_price_array = [1,2,3,4,5,6,7,8]\n",
    "price_step_count = {\n",
    "    'LONG': 2,\n",
    "    'SHORT': 3\n",
    "}\n",
    "\n",
    "print(step_price_array[price_step_count['SHORT']])\n",
    "\n",
    "# key_copy = tuple(traded_open_order_dict.keys())\n",
    "# for k in sorted(key_copy, reverse=True):\n",
    "#     print(k)\n",
    "#     if k > price and close_volume > 0:\n",
    "#         if close_volume > traded_open_order_dict[k]:\n",
    "#             close_volume -= traded_open_order_dict[k]\n",
    "#             del traded_open_order_dict[k]\n",
    "#         elif close_volume == traded_open_order_dict[k]:\n",
    "#             del traded_open_order_dict[k]\n",
    "#             close_volume = 0\n",
    "#             break\n",
    "#         else:\n",
    "#             traded_open_order_dict[k] -= close_volume\n",
    "#             close_volume = 0\n",
    "#             break\n",
    "\n",
    "# print(traded_open_order_dict)"
   ]
  },
  {
   "cell_type": "code",
   "execution_count": 5,
   "id": "0db7540c",
   "metadata": {},
   "outputs": [
    {
     "name": "stdout",
     "output_type": "stream",
     "text": [
      "date and time: 2022-07-01 16:16:22\n"
     ]
    }
   ],
   "source": [
    "from datetime import datetime\n",
    "\n",
    "# current date and time\n",
    "curDT = datetime.now()\n",
    "\n",
    "# current date and time\n",
    "date_time = curDT.strftime(\"%Y-%m-%d %H:%M:%S\")\n",
    "print(\"date and time:\", date_time)"
   ]
  },
  {
   "cell_type": "code",
   "execution_count": 7,
   "id": "bdc46c7c",
   "metadata": {},
   "outputs": [
    {
     "name": "stdout",
     "output_type": "stream",
     "text": [
      "598432154548.95\n"
     ]
    }
   ],
   "source": [
    "import os\n",
    "def write_log_to_file(info):\n",
    "    log_path = \"./log.txt\"    \n",
    "\n",
    "    os.makedirs(os.path.dirname(log_path), exist_ok=True)\n",
    "    with open(log_path , \"w\") as f:\n",
    "        f.write(str(info))\n",
    "\n",
    "traded_open_order_dict = str(61.5) + \", \" + str(500.25) + \", \" + str(598432154548.95)\n",
    "\n",
    "write_log_to_file(traded_open_order_dict)\n",
    "\n",
    "convertedDict = {}\n",
    "\n",
    "def read_log_from_file():\n",
    "    log_path = \"./log.txt\"\n",
    "\n",
    "    os.makedirs(os.path.dirname(log_path), exist_ok=True)\n",
    "    with open(log_path , \"r\") as f:\n",
    "        data = f.read().rstrip()\n",
    "        if data == \"\":\n",
    "            print('Empty')\n",
    "        else:            \n",
    "            print(float(data.split(', ')[2].strip()))\n",
    "\n",
    "read_log_from_file()\n",
    "\n"
   ]
  },
  {
   "cell_type": "code",
   "execution_count": 5,
   "id": "e95c44ce",
   "metadata": {},
   "outputs": [
    {
     "name": "stdout",
     "output_type": "stream",
     "text": [
      "1\n",
      "2\n"
     ]
    }
   ],
   "source": [
    "from typing import OrderedDict\n",
    "\n",
    "traded_open_order_dict = {51: 22, 51: 2}\n",
    "print(len(traded_open_order_dict))\n",
    "if len(traded_open_order_dict) == 1:\n",
    "    print(traded_open_order_dict[max(traded_open_order_dict.keys())])"
   ]
  },
  {
   "cell_type": "code",
   "execution_count": 11,
   "id": "a385e169",
   "metadata": {},
   "outputs": [
    {
     "name": "stdout",
     "output_type": "stream",
     "text": [
      "False\n"
     ]
    }
   ],
   "source": [
    "runtime = 51\n",
    "\n",
    "if runtime % 10 == 0:\n",
    "    print('True')\n",
    "else:\n",
    "    print('False')"
   ]
  },
  {
   "cell_type": "code",
   "execution_count": 27,
   "id": "2496cf81",
   "metadata": {},
   "outputs": [
    {
     "name": "stdout",
     "output_type": "stream",
     "text": [
      "250.2, 55.0, 32.362, 546525.25\n",
      "Initial Fund(BUSD): 250.2      RunTime(Minute): 55.0          Volume(ETH): 32.362               Amount(BUSD): 546525.25                       \n"
     ]
    }
   ],
   "source": [
    "balance = 250.2\n",
    "runtime = 55.0\n",
    "volume = 32.362\n",
    "amount = 546525.25\n",
    "\n",
    "info = f'{balance}, {runtime}, {volume}, {amount}'\n",
    "\n",
    "print(info)\n",
    "\n",
    "print(f'{\"Initial Fund(BUSD): \": >20}{balance: <10}{\"RunTime(Minute): \": >18}{runtime: <12}{\"Volume(ETH): \": >15}{volume: <20}{\"Amount(BUSD): \": >15}{amount: <32}')"
   ]
  },
  {
   "cell_type": "code",
   "execution_count": null,
   "id": "9e4c0dd0",
   "metadata": {},
   "outputs": [],
   "source": []
  }
 ],
 "metadata": {
  "kernelspec": {
   "display_name": "Python 3 (ipykernel)",
   "language": "python",
   "name": "python3"
  },
  "language_info": {
   "codemirror_mode": {
    "name": "ipython",
    "version": 3
   },
   "file_extension": ".py",
   "mimetype": "text/x-python",
   "name": "python",
   "nbconvert_exporter": "python",
   "pygments_lexer": "ipython3",
   "version": "3.9.7"
  }
 },
 "nbformat": 4,
 "nbformat_minor": 5
}
