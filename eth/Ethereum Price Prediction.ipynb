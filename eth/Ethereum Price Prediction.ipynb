{
 "cells": [
  {
   "cell_type": "code",
   "execution_count": 1,
   "metadata": {
    "executionInfo": {
     "elapsed": 986,
     "status": "ok",
     "timestamp": 1602792883385,
     "user": {
      "displayName": "Soroush Hashemi far",
      "photoUrl": "https://lh3.googleusercontent.com/a-/AOh14GhW4Xr7tc9srvIXCJXmdcx1GJjXi6IMiRDvUYvr=s64",
      "userId": "07805534226912513111"
     },
     "user_tz": -210
    },
    "id": "uJ_jXChwB609"
   },
   "outputs": [],
   "source": [
    "## Data preparation"
   ]
  },
  {
   "cell_type": "code",
   "execution_count": 1,
   "metadata": {
    "id": "P0vpvcLMzW9T"
   },
   "outputs": [],
   "source": [
    "price_url = \"https://etherscan.io/chart/etherprice?output=csv\"\n",
    "market_capitalization_url = \"https://etherscan.io/chart/marketcap?output=csv\"\n",
    "supply_growth_url = \"https://etherscan.io/chart/ethersupplygrowth?output=csv\"\n",
    "daily_transactions_url = \"https://etherscan.io/chart/tx?output=csv\"\n",
    "daily_token_transfer_url = \"https://etherscan.io/chart/tokenerc-20txns?output=csv\"\n",
    "unique_address_url = \"https://etherscan.io/chart/address?output=csv\"\n",
    "avg_block_size_url = \"https://etherscan.io/chart/blocksize?output=csv\"\n",
    "avg_block_time_url = \"https://etherscan.io/chart/blocktime?output=csv\"\n",
    "avg_gas_price_url = \"https://etherscan.io/chart/gasprice?output=csv\"\n",
    "avg_gas_limit_url = \"https://etherscan.io/chart/gaslimit?output=csv\"\n",
    "daily_gas_used_url = \"https://etherscan.io/chart/gasused?output=csv\"\n",
    "daily_block_reward_url = \"https://etherscan.io/chart/blockreward?output=csv\"\n",
    "block_count_rewards_url = \"https://etherscan.io/chart/blocks?output=csv\"\n",
    "uncle_count_rewards_url = \"https://etherscan.io/chart/uncles?output=csv\"\n",
    "net_hashrte_url = \"https://etherscan.io/chart/hashrate?output=csv\"\n",
    "net_difficulty_url = \"https://etherscan.io/chart/difficulty?output=csv\"\n",
    "pending_transactions_url = \"https://etherscan.io/chart/pendingtx?output=csv\"\n",
    "net_transaction_fee_url = \"https://etherscan.io/chart/transactionfee?output=csv\"\n",
    "net_utilization_url = \"https://etherscan.io/chart/networkutilization?output=csv\"\n",
    "daily_verified_contracts_url = \"https://etherscan.io/chart/verified-contracts?output=csv\""
   ]
  },
  {
   "cell_type": "code",
   "execution_count": 2,
   "metadata": {
    "executionInfo": {
     "elapsed": 782,
     "status": "ok",
     "timestamp": 1602792886123,
     "user": {
      "displayName": "Soroush Hashemi far",
      "photoUrl": "https://lh3.googleusercontent.com/a-/AOh14GhW4Xr7tc9srvIXCJXmdcx1GJjXi6IMiRDvUYvr=s64",
      "userId": "07805534226912513111"
     },
     "user_tz": -210
    },
    "id": "a1O65t-M34R6"
   },
   "outputs": [],
   "source": [
    "import pandas as pd\n",
    "from urllib.request import Request, urlopen\n",
    "\n",
    "def read_data(url):\n",
    "  req = Request(url)\n",
    "  req.add_header('User-Agent', 'Mozilla/5.0 (X11; Ubuntu; Linux x86_64; rv:77.0) Gecko/20100101 Firefox/77.0')\n",
    "  content = urlopen(req)\n",
    "\n",
    "  return pd.read_csv(content)"
   ]
  },
  {
   "cell_type": "code",
   "execution_count": 3,
   "metadata": {
    "id": "hFm9gBOt-s4X"
   },
   "outputs": [
    {
     "name": "stderr",
     "output_type": "stream",
     "text": [
      "C:\\Users\\Administrator\\AppData\\Local\\Temp\\ipykernel_12456\\452214062.py:30: FutureWarning: In a future version of pandas all arguments of DataFrame.drop except for the argument 'labels' will be keyword-only.\n",
      "  df = df.drop(\"UnixTimeStamp\", 1)\n",
      "C:\\Users\\Administrator\\AppData\\Local\\Temp\\ipykernel_12456\\452214062.py:30: FutureWarning: In a future version of pandas all arguments of DataFrame.drop except for the argument 'labels' will be keyword-only.\n",
      "  df = df.drop(\"UnixTimeStamp\", 1)\n",
      "C:\\Users\\Administrator\\AppData\\Local\\Temp\\ipykernel_12456\\452214062.py:30: FutureWarning: In a future version of pandas all arguments of DataFrame.drop except for the argument 'labels' will be keyword-only.\n",
      "  df = df.drop(\"UnixTimeStamp\", 1)\n",
      "C:\\Users\\Administrator\\AppData\\Local\\Temp\\ipykernel_12456\\452214062.py:30: FutureWarning: In a future version of pandas all arguments of DataFrame.drop except for the argument 'labels' will be keyword-only.\n",
      "  df = df.drop(\"UnixTimeStamp\", 1)\n",
      "C:\\Users\\Administrator\\AppData\\Local\\Temp\\ipykernel_12456\\452214062.py:30: FutureWarning: In a future version of pandas all arguments of DataFrame.drop except for the argument 'labels' will be keyword-only.\n",
      "  df = df.drop(\"UnixTimeStamp\", 1)\n",
      "C:\\Users\\Administrator\\AppData\\Local\\Temp\\ipykernel_12456\\452214062.py:30: FutureWarning: In a future version of pandas all arguments of DataFrame.drop except for the argument 'labels' will be keyword-only.\n",
      "  df = df.drop(\"UnixTimeStamp\", 1)\n",
      "C:\\Users\\Administrator\\AppData\\Local\\Temp\\ipykernel_12456\\452214062.py:30: FutureWarning: In a future version of pandas all arguments of DataFrame.drop except for the argument 'labels' will be keyword-only.\n",
      "  df = df.drop(\"UnixTimeStamp\", 1)\n",
      "C:\\Users\\Administrator\\AppData\\Local\\Temp\\ipykernel_12456\\452214062.py:30: FutureWarning: In a future version of pandas all arguments of DataFrame.drop except for the argument 'labels' will be keyword-only.\n",
      "  df = df.drop(\"UnixTimeStamp\", 1)\n",
      "C:\\Users\\Administrator\\AppData\\Local\\Temp\\ipykernel_12456\\452214062.py:30: FutureWarning: In a future version of pandas all arguments of DataFrame.drop except for the argument 'labels' will be keyword-only.\n",
      "  df = df.drop(\"UnixTimeStamp\", 1)\n",
      "C:\\Users\\Administrator\\AppData\\Local\\Temp\\ipykernel_12456\\452214062.py:30: FutureWarning: In a future version of pandas all arguments of DataFrame.drop except for the argument 'labels' will be keyword-only.\n",
      "  df = df.drop(\"UnixTimeStamp\", 1)\n",
      "C:\\Users\\Administrator\\AppData\\Local\\Temp\\ipykernel_12456\\452214062.py:30: FutureWarning: In a future version of pandas all arguments of DataFrame.drop except for the argument 'labels' will be keyword-only.\n",
      "  df = df.drop(\"UnixTimeStamp\", 1)\n",
      "C:\\Users\\Administrator\\AppData\\Local\\Temp\\ipykernel_12456\\452214062.py:30: FutureWarning: In a future version of pandas all arguments of DataFrame.drop except for the argument 'labels' will be keyword-only.\n",
      "  df = df.drop(\"UnixTimeStamp\", 1)\n",
      "C:\\Users\\Administrator\\AppData\\Local\\Temp\\ipykernel_12456\\452214062.py:30: FutureWarning: In a future version of pandas all arguments of DataFrame.drop except for the argument 'labels' will be keyword-only.\n",
      "  df = df.drop(\"UnixTimeStamp\", 1)\n",
      "C:\\Users\\Administrator\\AppData\\Local\\Temp\\ipykernel_12456\\452214062.py:30: FutureWarning: In a future version of pandas all arguments of DataFrame.drop except for the argument 'labels' will be keyword-only.\n",
      "  df = df.drop(\"UnixTimeStamp\", 1)\n",
      "C:\\Users\\Administrator\\AppData\\Local\\Temp\\ipykernel_12456\\452214062.py:30: FutureWarning: In a future version of pandas all arguments of DataFrame.drop except for the argument 'labels' will be keyword-only.\n",
      "  df = df.drop(\"UnixTimeStamp\", 1)\n",
      "C:\\Users\\Administrator\\AppData\\Local\\Temp\\ipykernel_12456\\452214062.py:30: FutureWarning: In a future version of pandas all arguments of DataFrame.drop except for the argument 'labels' will be keyword-only.\n",
      "  df = df.drop(\"UnixTimeStamp\", 1)\n",
      "C:\\Users\\Administrator\\AppData\\Local\\Temp\\ipykernel_12456\\452214062.py:30: FutureWarning: In a future version of pandas all arguments of DataFrame.drop except for the argument 'labels' will be keyword-only.\n",
      "  df = df.drop(\"UnixTimeStamp\", 1)\n",
      "C:\\Users\\Administrator\\AppData\\Local\\Temp\\ipykernel_12456\\452214062.py:30: FutureWarning: In a future version of pandas all arguments of DataFrame.drop except for the argument 'labels' will be keyword-only.\n",
      "  df = df.drop(\"UnixTimeStamp\", 1)\n"
     ]
    }
   ],
   "source": [
    "url_list = [\n",
    "              (\"price\", price_url),\n",
    "              (\"market cap.\", market_capitalization_url),\n",
    "              (\"supply growth\", supply_growth_url),\n",
    "              (\"daily trans.\", daily_transactions_url),\n",
    "              (\"daily token trans.\", daily_token_transfer_url),\n",
    "              (\"uniq. address\", unique_address_url),\n",
    "              (\"avg blk size\", avg_block_size_url),\n",
    "              (\"avg blk time\", avg_block_time_url),\n",
    "              (\"avg gas price\", avg_gas_price_url),\n",
    "              (\"avg gas limit\", avg_gas_limit_url),\n",
    "              (\"daily gas used\", daily_gas_used_url),\n",
    "              (\"daily blk reward\", daily_block_reward_url),\n",
    "              (\"blk count reward\", block_count_rewards_url),\n",
    "              (\"uncle count reward\", uncle_count_rewards_url),\n",
    "              (\"net hashrte\", net_hashrte_url),\n",
    "              (\"net diff.\", net_difficulty_url),\n",
    "              # (\"pending trans.\", pending_transactions_url),\n",
    "              (\"net trans. fee\", net_transaction_fee_url),\n",
    "              (\"net util.\", net_utilization_url),\n",
    "              # (\"daily verified contracts\", daily_verified_contracts_url),\n",
    "]\n",
    "\n",
    "df_list = []\n",
    "for column_name, url in url_list:\n",
    "  df = read_data(url)\n",
    "  df[\"Date(UTC)\"] = pd.to_datetime(df[\"Date(UTC)\"]).dt.strftime('%m/%d/%Y')\n",
    "\n",
    "  if \"UnixTimeStamp\" in df.columns:\n",
    "    df = df.drop(\"UnixTimeStamp\", 1)\n",
    "    \n",
    "  if \"Value\" in df.columns:\n",
    "    df = df.rename(columns={\"Value\": column_name})\n",
    "\n",
    "  df_list.append(df)"
   ]
  },
  {
   "cell_type": "code",
   "execution_count": 4,
   "metadata": {
    "colab": {
     "base_uri": "https://localhost:8080/",
     "height": 490
    },
    "executionInfo": {
     "elapsed": 1212,
     "status": "ok",
     "timestamp": 1602682558313,
     "user": {
      "displayName": "Soroush Hashemi far",
      "photoUrl": "https://lh3.googleusercontent.com/a-/AOh14GhW4Xr7tc9srvIXCJXmdcx1GJjXi6IMiRDvUYvr=s64",
      "userId": "07805534226912513111"
     },
     "user_tz": -210
    },
    "id": "2Ds2rzpF4TMm",
    "outputId": "ed599ff9-2549-4f81-d839-cffa5a845c34"
   },
   "outputs": [
    {
     "data": {
      "text/html": [
       "<div>\n",
       "<style scoped>\n",
       "    .dataframe tbody tr th:only-of-type {\n",
       "        vertical-align: middle;\n",
       "    }\n",
       "\n",
       "    .dataframe tbody tr th {\n",
       "        vertical-align: top;\n",
       "    }\n",
       "\n",
       "    .dataframe thead th {\n",
       "        text-align: right;\n",
       "    }\n",
       "</style>\n",
       "<table border=\"1\" class=\"dataframe\">\n",
       "  <thead>\n",
       "    <tr style=\"text-align: right;\">\n",
       "      <th></th>\n",
       "      <th>Date(UTC)</th>\n",
       "      <th>price</th>\n",
       "      <th>Supply</th>\n",
       "      <th>MarketCap</th>\n",
       "      <th>Price</th>\n",
       "      <th>supply growth</th>\n",
       "      <th>daily trans.</th>\n",
       "      <th>No. of ERC20 Token Transfers</th>\n",
       "      <th>uniq. address</th>\n",
       "      <th>avg blk size</th>\n",
       "      <th>...</th>\n",
       "      <th>avg gas price</th>\n",
       "      <th>avg gas limit</th>\n",
       "      <th>daily gas used</th>\n",
       "      <th>daily blk reward</th>\n",
       "      <th>blk count reward</th>\n",
       "      <th>uncle count reward</th>\n",
       "      <th>net hashrte</th>\n",
       "      <th>net diff.</th>\n",
       "      <th>net trans. fee</th>\n",
       "      <th>net util.</th>\n",
       "    </tr>\n",
       "  </thead>\n",
       "  <tbody>\n",
       "    <tr>\n",
       "      <th>0</th>\n",
       "      <td>07/30/2015</td>\n",
       "      <td>0.00</td>\n",
       "      <td>7.204931e+07</td>\n",
       "      <td>0.000000</td>\n",
       "      <td>0.00</td>\n",
       "      <td>7.204931e+07</td>\n",
       "      <td>8893</td>\n",
       "      <td>0</td>\n",
       "      <td>9205</td>\n",
       "      <td>644</td>\n",
       "      <td>...</td>\n",
       "      <td>0</td>\n",
       "      <td>0</td>\n",
       "      <td>0</td>\n",
       "      <td>39316.09375</td>\n",
       "      <td>6912</td>\n",
       "      <td>1299</td>\n",
       "      <td>11.5297</td>\n",
       "      <td>0.121</td>\n",
       "      <td>0</td>\n",
       "      <td>0.0000</td>\n",
       "    </tr>\n",
       "    <tr>\n",
       "      <th>1</th>\n",
       "      <td>07/31/2015</td>\n",
       "      <td>0.00</td>\n",
       "      <td>7.208550e+07</td>\n",
       "      <td>0.000000</td>\n",
       "      <td>0.00</td>\n",
       "      <td>7.208550e+07</td>\n",
       "      <td>0</td>\n",
       "      <td>0</td>\n",
       "      <td>9361</td>\n",
       "      <td>582</td>\n",
       "      <td>...</td>\n",
       "      <td>0</td>\n",
       "      <td>0</td>\n",
       "      <td>0</td>\n",
       "      <td>36191.71875</td>\n",
       "      <td>6863</td>\n",
       "      <td>511</td>\n",
       "      <td>51.4594</td>\n",
       "      <td>0.603</td>\n",
       "      <td>0</td>\n",
       "      <td>0.0000</td>\n",
       "    </tr>\n",
       "    <tr>\n",
       "      <th>2</th>\n",
       "      <td>08/01/2015</td>\n",
       "      <td>0.00</td>\n",
       "      <td>7.211320e+07</td>\n",
       "      <td>0.000000</td>\n",
       "      <td>0.00</td>\n",
       "      <td>7.211320e+07</td>\n",
       "      <td>0</td>\n",
       "      <td>0</td>\n",
       "      <td>9476</td>\n",
       "      <td>575</td>\n",
       "      <td>...</td>\n",
       "      <td>0</td>\n",
       "      <td>0</td>\n",
       "      <td>0</td>\n",
       "      <td>27705.93750</td>\n",
       "      <td>5293</td>\n",
       "      <td>334</td>\n",
       "      <td>57.7845</td>\n",
       "      <td>0.887</td>\n",
       "      <td>0</td>\n",
       "      <td>0.0000</td>\n",
       "    </tr>\n",
       "    <tr>\n",
       "      <th>3</th>\n",
       "      <td>08/02/2015</td>\n",
       "      <td>0.00</td>\n",
       "      <td>7.214143e+07</td>\n",
       "      <td>0.000000</td>\n",
       "      <td>0.00</td>\n",
       "      <td>7.214143e+07</td>\n",
       "      <td>0</td>\n",
       "      <td>0</td>\n",
       "      <td>9563</td>\n",
       "      <td>581</td>\n",
       "      <td>...</td>\n",
       "      <td>0</td>\n",
       "      <td>0</td>\n",
       "      <td>0</td>\n",
       "      <td>28223.43750</td>\n",
       "      <td>5358</td>\n",
       "      <td>394</td>\n",
       "      <td>67.9224</td>\n",
       "      <td>1.020</td>\n",
       "      <td>0</td>\n",
       "      <td>0.0000</td>\n",
       "    </tr>\n",
       "    <tr>\n",
       "      <th>4</th>\n",
       "      <td>08/03/2015</td>\n",
       "      <td>0.00</td>\n",
       "      <td>7.216940e+07</td>\n",
       "      <td>0.000000</td>\n",
       "      <td>0.00</td>\n",
       "      <td>7.216940e+07</td>\n",
       "      <td>0</td>\n",
       "      <td>0</td>\n",
       "      <td>9639</td>\n",
       "      <td>587</td>\n",
       "      <td>...</td>\n",
       "      <td>0</td>\n",
       "      <td>0</td>\n",
       "      <td>0</td>\n",
       "      <td>27976.71875</td>\n",
       "      <td>5280</td>\n",
       "      <td>443</td>\n",
       "      <td>74.5737</td>\n",
       "      <td>1.126</td>\n",
       "      <td>0</td>\n",
       "      <td>0.0000</td>\n",
       "    </tr>\n",
       "    <tr>\n",
       "      <th>...</th>\n",
       "      <td>...</td>\n",
       "      <td>...</td>\n",
       "      <td>...</td>\n",
       "      <td>...</td>\n",
       "      <td>...</td>\n",
       "      <td>...</td>\n",
       "      <td>...</td>\n",
       "      <td>...</td>\n",
       "      <td>...</td>\n",
       "      <td>...</td>\n",
       "      <td>...</td>\n",
       "      <td>...</td>\n",
       "      <td>...</td>\n",
       "      <td>...</td>\n",
       "      <td>...</td>\n",
       "      <td>...</td>\n",
       "      <td>...</td>\n",
       "      <td>...</td>\n",
       "      <td>...</td>\n",
       "      <td>...</td>\n",
       "      <td>...</td>\n",
       "    </tr>\n",
       "    <tr>\n",
       "      <th>2629</th>\n",
       "      <td>10/10/2022</td>\n",
       "      <td>1290.04</td>\n",
       "      <td>1.223736e+08</td>\n",
       "      <td>157866.884539</td>\n",
       "      <td>1,290.04</td>\n",
       "      <td>1.205294e+08</td>\n",
       "      <td>1123390</td>\n",
       "      <td>716017</td>\n",
       "      <td>207604560</td>\n",
       "      <td>55629</td>\n",
       "      <td>...</td>\n",
       "      <td>37582169969</td>\n",
       "      <td>29999989</td>\n",
       "      <td>109776077729</td>\n",
       "      <td>0.00000</td>\n",
       "      <td>7165</td>\n",
       "      <td>0</td>\n",
       "      <td>0.0000</td>\n",
       "      <td>0.000</td>\n",
       "      <td>484276116070808203508</td>\n",
       "      <td>0.5107</td>\n",
       "    </tr>\n",
       "    <tr>\n",
       "      <th>2630</th>\n",
       "      <td>10/11/2022</td>\n",
       "      <td>1279.79</td>\n",
       "      <td>1.223736e+08</td>\n",
       "      <td>156612.554777</td>\n",
       "      <td>1,279.79</td>\n",
       "      <td>1.205282e+08</td>\n",
       "      <td>1130309</td>\n",
       "      <td>788244</td>\n",
       "      <td>207757168</td>\n",
       "      <td>61347</td>\n",
       "      <td>...</td>\n",
       "      <td>29333893936</td>\n",
       "      <td>29999995</td>\n",
       "      <td>109645622117</td>\n",
       "      <td>0.00000</td>\n",
       "      <td>7164</td>\n",
       "      <td>0</td>\n",
       "      <td>0.0000</td>\n",
       "      <td>0.000</td>\n",
       "      <td>415370526126514681900</td>\n",
       "      <td>0.5102</td>\n",
       "    </tr>\n",
       "    <tr>\n",
       "      <th>2631</th>\n",
       "      <td>10/12/2022</td>\n",
       "      <td>1294.29</td>\n",
       "      <td>1.223736e+08</td>\n",
       "      <td>158386.972489</td>\n",
       "      <td>1,294.29</td>\n",
       "      <td>1.205279e+08</td>\n",
       "      <td>1074204</td>\n",
       "      <td>681879</td>\n",
       "      <td>207907342</td>\n",
       "      <td>65259</td>\n",
       "      <td>...</td>\n",
       "      <td>22281959320</td>\n",
       "      <td>30000000</td>\n",
       "      <td>109724089651</td>\n",
       "      <td>0.00000</td>\n",
       "      <td>7164</td>\n",
       "      <td>0</td>\n",
       "      <td>0.0000</td>\n",
       "      <td>0.000</td>\n",
       "      <td>447678742603832433673</td>\n",
       "      <td>0.5105</td>\n",
       "    </tr>\n",
       "    <tr>\n",
       "      <th>2632</th>\n",
       "      <td>10/13/2022</td>\n",
       "      <td>1287.51</td>\n",
       "      <td>1.223736e+08</td>\n",
       "      <td>157557.279241</td>\n",
       "      <td>1,287.51</td>\n",
       "      <td>1.205273e+08</td>\n",
       "      <td>1124129</td>\n",
       "      <td>779874</td>\n",
       "      <td>208018737</td>\n",
       "      <td>76420</td>\n",
       "      <td>...</td>\n",
       "      <td>27488686311</td>\n",
       "      <td>29999997</td>\n",
       "      <td>109491056408</td>\n",
       "      <td>0.00000</td>\n",
       "      <td>7157</td>\n",
       "      <td>0</td>\n",
       "      <td>0.0000</td>\n",
       "      <td>0.000</td>\n",
       "      <td>606219925137196795771</td>\n",
       "      <td>0.5099</td>\n",
       "    </tr>\n",
       "    <tr>\n",
       "      <th>2633</th>\n",
       "      <td>10/14/2022</td>\n",
       "      <td>1296.63</td>\n",
       "      <td>1.223736e+08</td>\n",
       "      <td>158673.326796</td>\n",
       "      <td>1,296.63</td>\n",
       "      <td>1.205272e+08</td>\n",
       "      <td>1071895</td>\n",
       "      <td>732268</td>\n",
       "      <td>208159550</td>\n",
       "      <td>69566</td>\n",
       "      <td>...</td>\n",
       "      <td>20982958370</td>\n",
       "      <td>29999968</td>\n",
       "      <td>109650526022</td>\n",
       "      <td>0.00000</td>\n",
       "      <td>7162</td>\n",
       "      <td>0</td>\n",
       "      <td>0.0000</td>\n",
       "      <td>0.000</td>\n",
       "      <td>449010129381448495035</td>\n",
       "      <td>0.5103</td>\n",
       "    </tr>\n",
       "  </tbody>\n",
       "</table>\n",
       "<p>2634 rows × 21 columns</p>\n",
       "</div>"
      ],
      "text/plain": [
       "       Date(UTC)    price        Supply      MarketCap     Price  \\\n",
       "0     07/30/2015     0.00  7.204931e+07       0.000000      0.00   \n",
       "1     07/31/2015     0.00  7.208550e+07       0.000000      0.00   \n",
       "2     08/01/2015     0.00  7.211320e+07       0.000000      0.00   \n",
       "3     08/02/2015     0.00  7.214143e+07       0.000000      0.00   \n",
       "4     08/03/2015     0.00  7.216940e+07       0.000000      0.00   \n",
       "...          ...      ...           ...            ...       ...   \n",
       "2629  10/10/2022  1290.04  1.223736e+08  157866.884539  1,290.04   \n",
       "2630  10/11/2022  1279.79  1.223736e+08  156612.554777  1,279.79   \n",
       "2631  10/12/2022  1294.29  1.223736e+08  158386.972489  1,294.29   \n",
       "2632  10/13/2022  1287.51  1.223736e+08  157557.279241  1,287.51   \n",
       "2633  10/14/2022  1296.63  1.223736e+08  158673.326796  1,296.63   \n",
       "\n",
       "      supply growth  daily trans.  No. of ERC20 Token Transfers  \\\n",
       "0      7.204931e+07          8893                             0   \n",
       "1      7.208550e+07             0                             0   \n",
       "2      7.211320e+07             0                             0   \n",
       "3      7.214143e+07             0                             0   \n",
       "4      7.216940e+07             0                             0   \n",
       "...             ...           ...                           ...   \n",
       "2629   1.205294e+08       1123390                        716017   \n",
       "2630   1.205282e+08       1130309                        788244   \n",
       "2631   1.205279e+08       1074204                        681879   \n",
       "2632   1.205273e+08       1124129                        779874   \n",
       "2633   1.205272e+08       1071895                        732268   \n",
       "\n",
       "      uniq. address  avg blk size  ...  avg gas price  avg gas limit  \\\n",
       "0              9205           644  ...              0              0   \n",
       "1              9361           582  ...              0              0   \n",
       "2              9476           575  ...              0              0   \n",
       "3              9563           581  ...              0              0   \n",
       "4              9639           587  ...              0              0   \n",
       "...             ...           ...  ...            ...            ...   \n",
       "2629      207604560         55629  ...    37582169969       29999989   \n",
       "2630      207757168         61347  ...    29333893936       29999995   \n",
       "2631      207907342         65259  ...    22281959320       30000000   \n",
       "2632      208018737         76420  ...    27488686311       29999997   \n",
       "2633      208159550         69566  ...    20982958370       29999968   \n",
       "\n",
       "      daily gas used  daily blk reward  blk count reward  uncle count reward  \\\n",
       "0                  0       39316.09375              6912                1299   \n",
       "1                  0       36191.71875              6863                 511   \n",
       "2                  0       27705.93750              5293                 334   \n",
       "3                  0       28223.43750              5358                 394   \n",
       "4                  0       27976.71875              5280                 443   \n",
       "...              ...               ...               ...                 ...   \n",
       "2629    109776077729           0.00000              7165                   0   \n",
       "2630    109645622117           0.00000              7164                   0   \n",
       "2631    109724089651           0.00000              7164                   0   \n",
       "2632    109491056408           0.00000              7157                   0   \n",
       "2633    109650526022           0.00000              7162                   0   \n",
       "\n",
       "      net hashrte  net diff.         net trans. fee net util.  \n",
       "0         11.5297      0.121                      0    0.0000  \n",
       "1         51.4594      0.603                      0    0.0000  \n",
       "2         57.7845      0.887                      0    0.0000  \n",
       "3         67.9224      1.020                      0    0.0000  \n",
       "4         74.5737      1.126                      0    0.0000  \n",
       "...           ...        ...                    ...       ...  \n",
       "2629       0.0000      0.000  484276116070808203508    0.5107  \n",
       "2630       0.0000      0.000  415370526126514681900    0.5102  \n",
       "2631       0.0000      0.000  447678742603832433673    0.5105  \n",
       "2632       0.0000      0.000  606219925137196795771    0.5099  \n",
       "2633       0.0000      0.000  449010129381448495035    0.5103  \n",
       "\n",
       "[2634 rows x 21 columns]"
      ]
     },
     "execution_count": 4,
     "metadata": {},
     "output_type": "execute_result"
    }
   ],
   "source": [
    "from functools import reduce\n",
    "\n",
    "df_total = reduce(lambda df1, df2: pd.merge(df1, df2, on='Date(UTC)'), df_list)\n",
    "df_total = df_total.rename(columns={\"Value (Wei)\": \"avg gas price\"})\n",
    "df_total"
   ]
  },
  {
   "cell_type": "code",
   "execution_count": 7,
   "metadata": {
    "colab": {
     "base_uri": "https://localhost:8080/",
     "height": 1000
    },
    "executionInfo": {
     "elapsed": 1170,
     "status": "ok",
     "timestamp": 1602682571316,
     "user": {
      "displayName": "Soroush Hashemi far",
      "photoUrl": "https://lh3.googleusercontent.com/a-/AOh14GhW4Xr7tc9srvIXCJXmdcx1GJjXi6IMiRDvUYvr=s64",
      "userId": "07805534226912513111"
     },
     "user_tz": -210
    },
    "id": "dajddQvJDObg",
    "outputId": "014fd9b7-49ae-4a16-b551-530d4c6d6465"
   },
   "outputs": [
    {
     "name": "stdout",
     "output_type": "stream",
     "text": [
      "<class 'pandas.core.frame.DataFrame'>\n",
      "RangeIndex: 1903 entries, 0 to 1902\n",
      "Data columns (total 21 columns):\n",
      " #   Column                        Non-Null Count  Dtype  \n",
      "---  ------                        --------------  -----  \n",
      " 0   Date(UTC)                     1903 non-null   object \n",
      " 1   price                         1903 non-null   float64\n",
      " 2   Supply                        1903 non-null   float64\n",
      " 3   MarketCap                     1903 non-null   float64\n",
      " 4   Price                         1903 non-null   object \n",
      " 5   supply growth                 1903 non-null   float64\n",
      " 6   daily trans.                  1903 non-null   int64  \n",
      " 7   No. of ERC20 Token Transfers  1903 non-null   int64  \n",
      " 8   uniq. address                 1903 non-null   int64  \n",
      " 9   avg blk size                  1903 non-null   int64  \n",
      " 10  avg blk time                  1903 non-null   float64\n",
      " 11  avg gas price                 1903 non-null   int64  \n",
      " 12  avg gas limit                 1903 non-null   int64  \n",
      " 13  daily gas used                1903 non-null   int64  \n",
      " 14  daily blk reward              1903 non-null   float64\n",
      " 15  blk count reward              1903 non-null   int64  \n",
      " 16  uncle count reward            1903 non-null   int64  \n",
      " 17  net hashrte                   1903 non-null   float64\n",
      " 18  net diff.                     1903 non-null   float64\n",
      " 19  net trans. fee                1903 non-null   object \n",
      " 20  net util.                     1903 non-null   float64\n",
      "dtypes: float64(9), int64(9), object(3)\n",
      "memory usage: 312.3+ KB\n"
     ]
    }
   ],
   "source": [
    "df_total.info()"
   ]
  },
  {
   "cell_type": "code",
   "execution_count": 8,
   "metadata": {
    "colab": {
     "base_uri": "https://localhost:8080/",
     "height": 490
    },
    "executionInfo": {
     "elapsed": 1787,
     "status": "ok",
     "timestamp": 1602792894848,
     "user": {
      "displayName": "Soroush Hashemi far",
      "photoUrl": "https://lh3.googleusercontent.com/a-/AOh14GhW4Xr7tc9srvIXCJXmdcx1GJjXi6IMiRDvUYvr=s64",
      "userId": "07805534226912513111"
     },
     "user_tz": -210
    },
    "id": "518EpgXDmOtH",
    "outputId": "7598a09b-37c3-4436-8f57-74f0aac8f5b4"
   },
   "outputs": [
    {
     "name": "stderr",
     "output_type": "stream",
     "text": [
      "C:\\Users\\Administrator\\AppData\\Local\\Temp\\ipykernel_12456\\1526417415.py:3: FutureWarning: In a future version of pandas all arguments of DataFrame.drop except for the argument 'labels' will be keyword-only.\n",
      "  df_total = df_total.drop(\"Unnamed: 0\", 1)\n"
     ]
    },
    {
     "data": {
      "text/html": [
       "<div>\n",
       "<style scoped>\n",
       "    .dataframe tbody tr th:only-of-type {\n",
       "        vertical-align: middle;\n",
       "    }\n",
       "\n",
       "    .dataframe tbody tr th {\n",
       "        vertical-align: top;\n",
       "    }\n",
       "\n",
       "    .dataframe thead th {\n",
       "        text-align: right;\n",
       "    }\n",
       "</style>\n",
       "<table border=\"1\" class=\"dataframe\">\n",
       "  <thead>\n",
       "    <tr style=\"text-align: right;\">\n",
       "      <th></th>\n",
       "      <th>Date(UTC)</th>\n",
       "      <th>price</th>\n",
       "      <th>Supply</th>\n",
       "      <th>MarketCap</th>\n",
       "      <th>Price</th>\n",
       "      <th>supply growth</th>\n",
       "      <th>daily trans.</th>\n",
       "      <th>No. of ERC20 Token Transfers</th>\n",
       "      <th>uniq. address</th>\n",
       "      <th>avg blk size</th>\n",
       "      <th>...</th>\n",
       "      <th>avg gas price</th>\n",
       "      <th>avg gas limit</th>\n",
       "      <th>daily gas used</th>\n",
       "      <th>daily blk reward</th>\n",
       "      <th>blk count reward</th>\n",
       "      <th>uncle count reward</th>\n",
       "      <th>net hashrte</th>\n",
       "      <th>net diff.</th>\n",
       "      <th>net trans. fee</th>\n",
       "      <th>net util.</th>\n",
       "    </tr>\n",
       "  </thead>\n",
       "  <tbody>\n",
       "    <tr>\n",
       "      <th>0</th>\n",
       "      <td>07/30/2015</td>\n",
       "      <td>0.00</td>\n",
       "      <td>7.204931e+07</td>\n",
       "      <td>0.000000</td>\n",
       "      <td>0.00</td>\n",
       "      <td>7.204931e+07</td>\n",
       "      <td>8893</td>\n",
       "      <td>0</td>\n",
       "      <td>9205</td>\n",
       "      <td>644</td>\n",
       "      <td>...</td>\n",
       "      <td>0</td>\n",
       "      <td>0</td>\n",
       "      <td>0</td>\n",
       "      <td>39316.09375</td>\n",
       "      <td>6912</td>\n",
       "      <td>1299</td>\n",
       "      <td>11.5297</td>\n",
       "      <td>0.121</td>\n",
       "      <td>0</td>\n",
       "      <td>0.0000</td>\n",
       "    </tr>\n",
       "    <tr>\n",
       "      <th>1</th>\n",
       "      <td>07/31/2015</td>\n",
       "      <td>0.00</td>\n",
       "      <td>7.208550e+07</td>\n",
       "      <td>0.000000</td>\n",
       "      <td>0.00</td>\n",
       "      <td>7.208550e+07</td>\n",
       "      <td>0</td>\n",
       "      <td>0</td>\n",
       "      <td>9361</td>\n",
       "      <td>582</td>\n",
       "      <td>...</td>\n",
       "      <td>0</td>\n",
       "      <td>0</td>\n",
       "      <td>0</td>\n",
       "      <td>36191.71875</td>\n",
       "      <td>6863</td>\n",
       "      <td>511</td>\n",
       "      <td>51.4594</td>\n",
       "      <td>0.603</td>\n",
       "      <td>0</td>\n",
       "      <td>0.0000</td>\n",
       "    </tr>\n",
       "    <tr>\n",
       "      <th>2</th>\n",
       "      <td>08/01/2015</td>\n",
       "      <td>0.00</td>\n",
       "      <td>7.211320e+07</td>\n",
       "      <td>0.000000</td>\n",
       "      <td>0.00</td>\n",
       "      <td>7.211320e+07</td>\n",
       "      <td>0</td>\n",
       "      <td>0</td>\n",
       "      <td>9476</td>\n",
       "      <td>575</td>\n",
       "      <td>...</td>\n",
       "      <td>0</td>\n",
       "      <td>0</td>\n",
       "      <td>0</td>\n",
       "      <td>27705.93750</td>\n",
       "      <td>5293</td>\n",
       "      <td>334</td>\n",
       "      <td>57.7845</td>\n",
       "      <td>0.887</td>\n",
       "      <td>0</td>\n",
       "      <td>0.0000</td>\n",
       "    </tr>\n",
       "    <tr>\n",
       "      <th>3</th>\n",
       "      <td>08/02/2015</td>\n",
       "      <td>0.00</td>\n",
       "      <td>7.214143e+07</td>\n",
       "      <td>0.000000</td>\n",
       "      <td>0.00</td>\n",
       "      <td>7.214143e+07</td>\n",
       "      <td>0</td>\n",
       "      <td>0</td>\n",
       "      <td>9563</td>\n",
       "      <td>581</td>\n",
       "      <td>...</td>\n",
       "      <td>0</td>\n",
       "      <td>0</td>\n",
       "      <td>0</td>\n",
       "      <td>28223.43750</td>\n",
       "      <td>5358</td>\n",
       "      <td>394</td>\n",
       "      <td>67.9224</td>\n",
       "      <td>1.020</td>\n",
       "      <td>0</td>\n",
       "      <td>0.0000</td>\n",
       "    </tr>\n",
       "    <tr>\n",
       "      <th>4</th>\n",
       "      <td>08/03/2015</td>\n",
       "      <td>0.00</td>\n",
       "      <td>7.216940e+07</td>\n",
       "      <td>0.000000</td>\n",
       "      <td>0.00</td>\n",
       "      <td>7.216940e+07</td>\n",
       "      <td>0</td>\n",
       "      <td>0</td>\n",
       "      <td>9639</td>\n",
       "      <td>587</td>\n",
       "      <td>...</td>\n",
       "      <td>0</td>\n",
       "      <td>0</td>\n",
       "      <td>0</td>\n",
       "      <td>27976.71875</td>\n",
       "      <td>5280</td>\n",
       "      <td>443</td>\n",
       "      <td>74.5737</td>\n",
       "      <td>1.126</td>\n",
       "      <td>0</td>\n",
       "      <td>0.0000</td>\n",
       "    </tr>\n",
       "    <tr>\n",
       "      <th>...</th>\n",
       "      <td>...</td>\n",
       "      <td>...</td>\n",
       "      <td>...</td>\n",
       "      <td>...</td>\n",
       "      <td>...</td>\n",
       "      <td>...</td>\n",
       "      <td>...</td>\n",
       "      <td>...</td>\n",
       "      <td>...</td>\n",
       "      <td>...</td>\n",
       "      <td>...</td>\n",
       "      <td>...</td>\n",
       "      <td>...</td>\n",
       "      <td>...</td>\n",
       "      <td>...</td>\n",
       "      <td>...</td>\n",
       "      <td>...</td>\n",
       "      <td>...</td>\n",
       "      <td>...</td>\n",
       "      <td>...</td>\n",
       "      <td>...</td>\n",
       "    </tr>\n",
       "    <tr>\n",
       "      <th>1898</th>\n",
       "      <td>10/09/2020</td>\n",
       "      <td>365.41</td>\n",
       "      <td>1.129408e+08</td>\n",
       "      <td>41269.687896</td>\n",
       "      <td>365.41</td>\n",
       "      <td>1.129408e+08</td>\n",
       "      <td>1049571</td>\n",
       "      <td>920272</td>\n",
       "      <td>117574906</td>\n",
       "      <td>37292</td>\n",
       "      <td>...</td>\n",
       "      <td>80387358281</td>\n",
       "      <td>12453527</td>\n",
       "      <td>77357297734</td>\n",
       "      <td>13342.37500</td>\n",
       "      <td>6378</td>\n",
       "      <td>342</td>\n",
       "      <td>257731.4794</td>\n",
       "      <td>3313.690</td>\n",
       "      <td>5752785534866861518614</td>\n",
       "      <td>0.9741</td>\n",
       "    </tr>\n",
       "    <tr>\n",
       "      <th>1899</th>\n",
       "      <td>10/10/2020</td>\n",
       "      <td>370.88</td>\n",
       "      <td>1.129543e+08</td>\n",
       "      <td>41892.488339</td>\n",
       "      <td>370.88</td>\n",
       "      <td>1.129543e+08</td>\n",
       "      <td>1036351</td>\n",
       "      <td>891639</td>\n",
       "      <td>117739687</td>\n",
       "      <td>35619</td>\n",
       "      <td>...</td>\n",
       "      <td>64197264627</td>\n",
       "      <td>12466925</td>\n",
       "      <td>76569429799</td>\n",
       "      <td>13520.31250</td>\n",
       "      <td>6509</td>\n",
       "      <td>293</td>\n",
       "      <td>262559.7762</td>\n",
       "      <td>3335.073</td>\n",
       "      <td>4494541295798936979940</td>\n",
       "      <td>0.9436</td>\n",
       "    </tr>\n",
       "    <tr>\n",
       "      <th>1900</th>\n",
       "      <td>10/11/2020</td>\n",
       "      <td>374.40</td>\n",
       "      <td>1.129680e+08</td>\n",
       "      <td>42295.205336</td>\n",
       "      <td>374.40</td>\n",
       "      <td>1.129680e+08</td>\n",
       "      <td>1004701</td>\n",
       "      <td>887063</td>\n",
       "      <td>117980843</td>\n",
       "      <td>35265</td>\n",
       "      <td>...</td>\n",
       "      <td>49653860265</td>\n",
       "      <td>12467821</td>\n",
       "      <td>79786775919</td>\n",
       "      <td>13669.56250</td>\n",
       "      <td>6569</td>\n",
       "      <td>313</td>\n",
       "      <td>260752.4476</td>\n",
       "      <td>3273.614</td>\n",
       "      <td>3585365603350568699498</td>\n",
       "      <td>0.9743</td>\n",
       "    </tr>\n",
       "    <tr>\n",
       "      <th>1901</th>\n",
       "      <td>10/12/2020</td>\n",
       "      <td>386.91</td>\n",
       "      <td>1.129815e+08</td>\n",
       "      <td>43713.660207</td>\n",
       "      <td>386.91</td>\n",
       "      <td>1.129815e+08</td>\n",
       "      <td>1092162</td>\n",
       "      <td>942638</td>\n",
       "      <td>118137338</td>\n",
       "      <td>38657</td>\n",
       "      <td>...</td>\n",
       "      <td>76063541206</td>\n",
       "      <td>12469822</td>\n",
       "      <td>78295187648</td>\n",
       "      <td>13506.12500</td>\n",
       "      <td>6457</td>\n",
       "      <td>354</td>\n",
       "      <td>259780.9543</td>\n",
       "      <td>3295.415</td>\n",
       "      <td>5515120626498358226212</td>\n",
       "      <td>0.9724</td>\n",
       "    </tr>\n",
       "    <tr>\n",
       "      <th>1902</th>\n",
       "      <td>10/13/2020</td>\n",
       "      <td>379.15</td>\n",
       "      <td>1.129952e+08</td>\n",
       "      <td>42842.133362</td>\n",
       "      <td>379.15</td>\n",
       "      <td>1.129952e+08</td>\n",
       "      <td>1127396</td>\n",
       "      <td>945979</td>\n",
       "      <td>118293283</td>\n",
       "      <td>38207</td>\n",
       "      <td>...</td>\n",
       "      <td>75080099063</td>\n",
       "      <td>12475538</td>\n",
       "      <td>80096589404</td>\n",
       "      <td>13739.56250</td>\n",
       "      <td>6574</td>\n",
       "      <td>345</td>\n",
       "      <td>265919.1653</td>\n",
       "      <td>3320.627</td>\n",
       "      <td>5702287880813999911906</td>\n",
       "      <td>0.9766</td>\n",
       "    </tr>\n",
       "  </tbody>\n",
       "</table>\n",
       "<p>1903 rows × 21 columns</p>\n",
       "</div>"
      ],
      "text/plain": [
       "       Date(UTC)   price        Supply     MarketCap   Price  supply growth  \\\n",
       "0     07/30/2015    0.00  7.204931e+07      0.000000    0.00   7.204931e+07   \n",
       "1     07/31/2015    0.00  7.208550e+07      0.000000    0.00   7.208550e+07   \n",
       "2     08/01/2015    0.00  7.211320e+07      0.000000    0.00   7.211320e+07   \n",
       "3     08/02/2015    0.00  7.214143e+07      0.000000    0.00   7.214143e+07   \n",
       "4     08/03/2015    0.00  7.216940e+07      0.000000    0.00   7.216940e+07   \n",
       "...          ...     ...           ...           ...     ...            ...   \n",
       "1898  10/09/2020  365.41  1.129408e+08  41269.687896  365.41   1.129408e+08   \n",
       "1899  10/10/2020  370.88  1.129543e+08  41892.488339  370.88   1.129543e+08   \n",
       "1900  10/11/2020  374.40  1.129680e+08  42295.205336  374.40   1.129680e+08   \n",
       "1901  10/12/2020  386.91  1.129815e+08  43713.660207  386.91   1.129815e+08   \n",
       "1902  10/13/2020  379.15  1.129952e+08  42842.133362  379.15   1.129952e+08   \n",
       "\n",
       "      daily trans.  No. of ERC20 Token Transfers  uniq. address  avg blk size  \\\n",
       "0             8893                             0           9205           644   \n",
       "1                0                             0           9361           582   \n",
       "2                0                             0           9476           575   \n",
       "3                0                             0           9563           581   \n",
       "4                0                             0           9639           587   \n",
       "...            ...                           ...            ...           ...   \n",
       "1898       1049571                        920272      117574906         37292   \n",
       "1899       1036351                        891639      117739687         35619   \n",
       "1900       1004701                        887063      117980843         35265   \n",
       "1901       1092162                        942638      118137338         38657   \n",
       "1902       1127396                        945979      118293283         38207   \n",
       "\n",
       "      ...  avg gas price  avg gas limit  daily gas used  daily blk reward  \\\n",
       "0     ...              0              0               0       39316.09375   \n",
       "1     ...              0              0               0       36191.71875   \n",
       "2     ...              0              0               0       27705.93750   \n",
       "3     ...              0              0               0       28223.43750   \n",
       "4     ...              0              0               0       27976.71875   \n",
       "...   ...            ...            ...             ...               ...   \n",
       "1898  ...    80387358281       12453527     77357297734       13342.37500   \n",
       "1899  ...    64197264627       12466925     76569429799       13520.31250   \n",
       "1900  ...    49653860265       12467821     79786775919       13669.56250   \n",
       "1901  ...    76063541206       12469822     78295187648       13506.12500   \n",
       "1902  ...    75080099063       12475538     80096589404       13739.56250   \n",
       "\n",
       "      blk count reward  uncle count reward  net hashrte  net diff.  \\\n",
       "0                 6912                1299      11.5297      0.121   \n",
       "1                 6863                 511      51.4594      0.603   \n",
       "2                 5293                 334      57.7845      0.887   \n",
       "3                 5358                 394      67.9224      1.020   \n",
       "4                 5280                 443      74.5737      1.126   \n",
       "...                ...                 ...          ...        ...   \n",
       "1898              6378                 342  257731.4794   3313.690   \n",
       "1899              6509                 293  262559.7762   3335.073   \n",
       "1900              6569                 313  260752.4476   3273.614   \n",
       "1901              6457                 354  259780.9543   3295.415   \n",
       "1902              6574                 345  265919.1653   3320.627   \n",
       "\n",
       "              net trans. fee net util.  \n",
       "0                          0    0.0000  \n",
       "1                          0    0.0000  \n",
       "2                          0    0.0000  \n",
       "3                          0    0.0000  \n",
       "4                          0    0.0000  \n",
       "...                      ...       ...  \n",
       "1898  5752785534866861518614    0.9741  \n",
       "1899  4494541295798936979940    0.9436  \n",
       "1900  3585365603350568699498    0.9743  \n",
       "1901  5515120626498358226212    0.9724  \n",
       "1902  5702287880813999911906    0.9766  \n",
       "\n",
       "[1903 rows x 21 columns]"
      ]
     },
     "execution_count": 8,
     "metadata": {},
     "output_type": "execute_result"
    }
   ],
   "source": [
    "# df_total.to_csv(\"drive/My Drive/Colab Notebooks/etheruem_data.csv\")\n",
    "df_total = pd.read_csv(\"etheruem_data.csv\")\n",
    "df_total = df_total.drop(\"Unnamed: 0\", 1)\n",
    "df_total"
   ]
  },
  {
   "cell_type": "code",
   "execution_count": 9,
   "metadata": {
    "colab": {
     "base_uri": "https://localhost:8080/",
     "height": 265
    },
    "executionInfo": {
     "elapsed": 865,
     "status": "ok",
     "timestamp": 1602792895488,
     "user": {
      "displayName": "Soroush Hashemi far",
      "photoUrl": "https://lh3.googleusercontent.com/a-/AOh14GhW4Xr7tc9srvIXCJXmdcx1GJjXi6IMiRDvUYvr=s64",
      "userId": "07805534226912513111"
     },
     "user_tz": -210
    },
    "id": "oaDN5ygI4VXL",
    "outputId": "765432b4-48f8-4cf3-fc25-9da31303b030"
   },
   "outputs": [
    {
     "data": {
      "image/png": "[encoded data removed]",
      "text/plain": [
       "<Figure size 432x288 with 1 Axes>"
      ]
     },
     "metadata": {
      "needs_background": "light"
     },
     "output_type": "display_data"
    }
   ],
   "source": [
    "import matplotlib.pyplot as plt\n",
    "\n",
    "df_total[\"price\"].plot()\n",
    "plt.show()"
   ]
  },
  {
   "cell_type": "code",
   "execution_count": 10,
   "metadata": {
    "executionInfo": {
     "elapsed": 874,
     "status": "ok",
     "timestamp": 1602792898631,
     "user": {
      "displayName": "Soroush Hashemi far",
      "photoUrl": "https://lh3.googleusercontent.com/a-/AOh14GhW4Xr7tc9srvIXCJXmdcx1GJjXi6IMiRDvUYvr=s64",
      "userId": "07805534226912513111"
     },
     "user_tz": -210
    },
    "id": "V_UGpsbFCMyn"
   },
   "outputs": [],
   "source": [
    "## Data preprocessing"
   ]
  },
  {
   "cell_type": "code",
   "execution_count": 11,
   "metadata": {
    "executionInfo": {
     "elapsed": 2278,
     "status": "ok",
     "timestamp": 1602792900436,
     "user": {
      "displayName": "Soroush Hashemi far",
      "photoUrl": "https://lh3.googleusercontent.com/a-/AOh14GhW4Xr7tc9srvIXCJXmdcx1GJjXi6IMiRDvUYvr=s64",
      "userId": "07805534226912513111"
     },
     "user_tz": -210
    },
    "id": "DnotLB2jvj-O"
   },
   "outputs": [
    {
     "ename": "ModuleNotFoundError",
     "evalue": "No module named 'tensorflow.python.eager.polymorphic_function'",
     "output_type": "error",
     "traceback": [
      "\u001b[1;31m---------------------------------------------------------------------------\u001b[0m",
      "\u001b[1;31mModuleNotFoundError\u001b[0m                       Traceback (most recent call last)",
      "Input \u001b[1;32mIn [11]\u001b[0m, in \u001b[0;36m<cell line: 1>\u001b[1;34m()\u001b[0m\n\u001b[1;32m----> 1\u001b[0m \u001b[38;5;28;01mimport\u001b[39;00m \u001b[38;5;21;01mtensorflow\u001b[39;00m \u001b[38;5;28;01mas\u001b[39;00m \u001b[38;5;21;01mtf\u001b[39;00m\n",
      "File \u001b[1;32mC:\\ProgramData\\Anaconda3\\lib\\site-packages\\tensorflow\\__init__.py:45\u001b[0m, in \u001b[0;36m<module>\u001b[1;34m\u001b[0m\n\u001b[0;32m     42\u001b[0m \u001b[38;5;28;01mfrom\u001b[39;00m \u001b[38;5;21;01mtensorflow\u001b[39;00m\u001b[38;5;21;01m.\u001b[39;00m\u001b[38;5;21;01mpython\u001b[39;00m \u001b[38;5;28;01mimport\u001b[39;00m tf2 \u001b[38;5;28;01mas\u001b[39;00m _tf2\n\u001b[0;32m     43\u001b[0m _tf2\u001b[38;5;241m.\u001b[39menable()\n\u001b[1;32m---> 45\u001b[0m \u001b[38;5;28;01mfrom\u001b[39;00m \u001b[38;5;21;01m.\u001b[39;00m\u001b[38;5;21;01m_api\u001b[39;00m\u001b[38;5;21;01m.\u001b[39;00m\u001b[38;5;21;01mv2\u001b[39;00m \u001b[38;5;28;01mimport\u001b[39;00m __internal__\n\u001b[0;32m     46\u001b[0m \u001b[38;5;28;01mfrom\u001b[39;00m \u001b[38;5;21;01m.\u001b[39;00m\u001b[38;5;21;01m_api\u001b[39;00m\u001b[38;5;21;01m.\u001b[39;00m\u001b[38;5;21;01mv2\u001b[39;00m \u001b[38;5;28;01mimport\u001b[39;00m __operators__\n\u001b[0;32m     47\u001b[0m \u001b[38;5;28;01mfrom\u001b[39;00m \u001b[38;5;21;01m.\u001b[39;00m\u001b[38;5;21;01m_api\u001b[39;00m\u001b[38;5;21;01m.\u001b[39;00m\u001b[38;5;21;01mv2\u001b[39;00m \u001b[38;5;28;01mimport\u001b[39;00m audio\n",
      "File \u001b[1;32mC:\\ProgramData\\Anaconda3\\lib\\site-packages\\tensorflow\\_api\\v2\\__internal__\\__init__.py:14\u001b[0m, in \u001b[0;36m<module>\u001b[1;34m\u001b[0m\n\u001b[0;32m     12\u001b[0m \u001b[38;5;28;01mfrom\u001b[39;00m \u001b[38;5;21;01m.\u001b[39;00m \u001b[38;5;28;01mimport\u001b[39;00m eager_context\n\u001b[0;32m     13\u001b[0m \u001b[38;5;28;01mfrom\u001b[39;00m \u001b[38;5;21;01m.\u001b[39;00m \u001b[38;5;28;01mimport\u001b[39;00m feature_column\n\u001b[1;32m---> 14\u001b[0m \u001b[38;5;28;01mfrom\u001b[39;00m \u001b[38;5;21;01m.\u001b[39;00m \u001b[38;5;28;01mimport\u001b[39;00m function\n\u001b[0;32m     15\u001b[0m \u001b[38;5;28;01mfrom\u001b[39;00m \u001b[38;5;21;01m.\u001b[39;00m \u001b[38;5;28;01mimport\u001b[39;00m graph_util\n\u001b[0;32m     16\u001b[0m \u001b[38;5;28;01mfrom\u001b[39;00m \u001b[38;5;21;01m.\u001b[39;00m \u001b[38;5;28;01mimport\u001b[39;00m mixed_precision\n",
      "File \u001b[1;32mC:\\ProgramData\\Anaconda3\\lib\\site-packages\\tensorflow\\_api\\v2\\__internal__\\function\\__init__.py:8\u001b[0m, in \u001b[0;36m<module>\u001b[1;34m\u001b[0m\n\u001b[0;32m      3\u001b[0m \u001b[38;5;124;03m\"\"\"Public API for tf.__internal__.function namespace.\u001b[39;00m\n\u001b[0;32m      4\u001b[0m \u001b[38;5;124;03m\"\"\"\u001b[39;00m\n\u001b[0;32m      6\u001b[0m \u001b[38;5;28;01mimport\u001b[39;00m \u001b[38;5;21;01msys\u001b[39;00m \u001b[38;5;28;01mas\u001b[39;00m \u001b[38;5;21;01m_sys\u001b[39;00m\n\u001b[1;32m----> 8\u001b[0m \u001b[38;5;28;01mfrom\u001b[39;00m \u001b[38;5;21;01mtensorflow\u001b[39;00m\u001b[38;5;21;01m.\u001b[39;00m\u001b[38;5;21;01mpython\u001b[39;00m\u001b[38;5;21;01m.\u001b[39;00m\u001b[38;5;21;01meager\u001b[39;00m\u001b[38;5;21;01m.\u001b[39;00m\u001b[38;5;21;01mpolymorphic_function\u001b[39;00m\u001b[38;5;21;01m.\u001b[39;00m\u001b[38;5;21;01mpolymorphic_function\u001b[39;00m \u001b[38;5;28;01mimport\u001b[39;00m Function\n\u001b[0;32m      9\u001b[0m \u001b[38;5;28;01mfrom\u001b[39;00m \u001b[38;5;21;01mtensorflow\u001b[39;00m\u001b[38;5;21;01m.\u001b[39;00m\u001b[38;5;21;01mpython\u001b[39;00m\u001b[38;5;21;01m.\u001b[39;00m\u001b[38;5;21;01meager\u001b[39;00m\u001b[38;5;21;01m.\u001b[39;00m\u001b[38;5;21;01mpolymorphic_function\u001b[39;00m\u001b[38;5;21;01m.\u001b[39;00m\u001b[38;5;21;01mquarantine\u001b[39;00m \u001b[38;5;28;01mimport\u001b[39;00m defun_with_attributes\n",
      "\u001b[1;31mModuleNotFoundError\u001b[0m: No module named 'tensorflow.python.eager.polymorphic_function'"
     ]
    }
   ],
   "source": [
    "import tensorflow as tf\n",
    "\n",
    "# df_months = pd.to_datetime(df_total[\"Date(UTC)\"]).dt.strftime('%m').astype(\"int16\")\n",
    "# df_days = pd.to_datetime(df_total[\"Date(UTC)\"]).dt.strftime('%d').astype(\"int16\")\n",
    "# months = pd.DataFrame(tf.keras.utils.to_categorical(df_months)[:, 1:], columns=[\"Month \"+str(i) for i in range(1, 13)]).astype(\"int\")\n",
    "# days = pd.DataFrame(tf.keras.utils.to_categorical(df_days)[:, 1:], columns=[\"Day \"+str(i) for i in range(1, 32)]).astype(\"int\")\n",
    "# df_total = pd.concat([df_total, months, days], axis=1)\n",
    "# df_total"
   ]
  },
  {
   "cell_type": "code",
   "execution_count": 12,
   "metadata": {
    "executionInfo": {
     "elapsed": 1125,
     "status": "ok",
     "timestamp": 1602792900438,
     "user": {
      "displayName": "Soroush Hashemi far",
      "photoUrl": "https://lh3.googleusercontent.com/a-/AOh14GhW4Xr7tc9srvIXCJXmdcx1GJjXi6IMiRDvUYvr=s64",
      "userId": "07805534226912513111"
     },
     "user_tz": -210
    },
    "id": "8U746pk6E1Um"
   },
   "outputs": [],
   "source": [
    "from sklearn.preprocessing import MinMaxScaler\n",
    "import numpy as np\n",
    "\n",
    "series = df_total[[column for column in df_total.columns if column not in [\"Date(UTC)\"]]]\n",
    "series = series.applymap(lambda value: value.replace(\",\", \"\") if type(value) is str else value)\n",
    "series = series.to_numpy()\n",
    "scaler = MinMaxScaler()\n",
    "series = scaler.fit_transform(series)"
   ]
  },
  {
   "cell_type": "code",
   "execution_count": 13,
   "metadata": {
    "executionInfo": {
     "elapsed": 647,
     "status": "ok",
     "timestamp": 1602794472624,
     "user": {
      "displayName": "Soroush Hashemi far",
      "photoUrl": "https://lh3.googleusercontent.com/a-/AOh14GhW4Xr7tc9srvIXCJXmdcx1GJjXi6IMiRDvUYvr=s64",
      "userId": "07805534226912513111"
     },
     "user_tz": -210
    },
    "id": "Q0bH4s-ZDPTK"
   },
   "outputs": [],
   "source": [
    "split_time = 1500\n",
    "\n",
    "time = np.array(df_total.index)\n",
    "time_train = time[:split_time]\n",
    "x_train = series[:split_time]\n",
    "time_valid = time[split_time:]\n",
    "x_valid = series[split_time:]\n",
    "\n",
    "window_size = 90\n",
    "batch_size = 512\n",
    "shuffle_buffer_size = 1000"
   ]
  },
  {
   "cell_type": "code",
   "execution_count": 14,
   "metadata": {
    "executionInfo": {
     "elapsed": 964,
     "status": "ok",
     "timestamp": 1602794473783,
     "user": {
      "displayName": "Soroush Hashemi far",
      "photoUrl": "https://lh3.googleusercontent.com/a-/AOh14GhW4Xr7tc9srvIXCJXmdcx1GJjXi6IMiRDvUYvr=s64",
      "userId": "07805534226912513111"
     },
     "user_tz": -210
    },
    "id": "tI7o5QcyFB0M"
   },
   "outputs": [],
   "source": [
    "def windowed_dataset(series, window_size, batch_size, shuffle_buffer):\n",
    "  dataset = tf.data.Dataset.from_tensor_slices(series)\n",
    "  dataset = dataset.window(window_size + 1, shift=1, drop_remainder=True)\n",
    "  dataset = dataset.flat_map(lambda window: window.batch(window_size + 1))\n",
    "  dataset = dataset.shuffle(shuffle_buffer).map(lambda window: (window[:-1], window[-1][0]))\n",
    "  dataset = dataset.batch(batch_size).prefetch(1)\n",
    "  \n",
    "  return dataset"
   ]
  },
  {
   "cell_type": "code",
   "execution_count": 15,
   "metadata": {
    "executionInfo": {
     "elapsed": 580,
     "status": "ok",
     "timestamp": 1602794474745,
     "user": {
      "displayName": "Soroush Hashemi far",
      "photoUrl": "https://lh3.googleusercontent.com/a-/AOh14GhW4Xr7tc9srvIXCJXmdcx1GJjXi6IMiRDvUYvr=s64",
      "userId": "07805534226912513111"
     },
     "user_tz": -210
    },
    "id": "jPfAZviUFQg2"
   },
   "outputs": [
    {
     "ename": "NameError",
     "evalue": "name 'tf' is not defined",
     "output_type": "error",
     "traceback": [
      "\u001b[1;31m---------------------------------------------------------------------------\u001b[0m",
      "\u001b[1;31mNameError\u001b[0m                                 Traceback (most recent call last)",
      "Input \u001b[1;32mIn [15]\u001b[0m, in \u001b[0;36m<cell line: 1>\u001b[1;34m()\u001b[0m\n\u001b[1;32m----> 1\u001b[0m \u001b[43mtf\u001b[49m\u001b[38;5;241m.\u001b[39mkeras\u001b[38;5;241m.\u001b[39mbackend\u001b[38;5;241m.\u001b[39mclear_session()\n\u001b[0;32m      3\u001b[0m train_set \u001b[38;5;241m=\u001b[39m windowed_dataset(x_train, window_size, batch_size\u001b[38;5;241m=\u001b[39mbatch_size, shuffle_buffer\u001b[38;5;241m=\u001b[39mshuffle_buffer_size)\n",
      "\u001b[1;31mNameError\u001b[0m: name 'tf' is not defined"
     ]
    }
   ],
   "source": [
    "tf.keras.backend.clear_session()\n",
    "\n",
    "train_set = windowed_dataset(x_train, window_size, batch_size=batch_size, shuffle_buffer=shuffle_buffer_size)"
   ]
  },
  {
   "cell_type": "code",
   "execution_count": 62,
   "metadata": {
    "executionInfo": {
     "elapsed": 603,
     "status": "ok",
     "timestamp": 1602794476336,
     "user": {
      "displayName": "Soroush Hashemi far",
      "photoUrl": "https://lh3.googleusercontent.com/a-/AOh14GhW4Xr7tc9srvIXCJXmdcx1GJjXi6IMiRDvUYvr=s64",
      "userId": "07805534226912513111"
     },
     "user_tz": -210
    },
    "id": "-pfi_Bh1CRnG"
   },
   "outputs": [],
   "source": [
    "## Training model"
   ]
  },
  {
   "cell_type": "code",
   "execution_count": 236,
   "metadata": {
    "colab": {
     "base_uri": "https://localhost:8080/",
     "height": 1000
    },
    "executionInfo": {
     "elapsed": 16449,
     "status": "error",
     "timestamp": 1602798604404,
     "user": {
      "displayName": "Soroush Hashemi far",
      "photoUrl": "https://lh3.googleusercontent.com/a-/AOh14GhW4Xr7tc9srvIXCJXmdcx1GJjXi6IMiRDvUYvr=s64",
      "userId": "07805534226912513111"
     },
     "user_tz": -210
    },
    "id": "GP98-EzcFIq4",
    "outputId": "af122e9d-c180-479e-dd02-afca7273a788"
   },
   "outputs": [
    {
     "name": "stdout",
     "output_type": "stream",
     "text": [
      "Model: \"sequential_17\"\n",
      "_________________________________________________________________\n",
      "Layer (type)                 Output Shape              Param #   \n",
      "=================================================================\n",
      "conv1d_25 (Conv1D)           (None, None, 128)         7808      \n",
      "_________________________________________________________________\n",
      "conv1d_26 (Conv1D)           (None, None, 64)          24640     \n",
      "_________________________________________________________________\n",
      "bidirectional_49 (Bidirectio (None, None, 256)         197632    \n",
      "_________________________________________________________________\n",
      "bidirectional_50 (Bidirectio (None, None, 256)         394240    \n",
      "_________________________________________________________________\n",
      "bidirectional_51 (Bidirectio (None, 256)               394240    \n",
      "_________________________________________________________________\n",
      "dense_28 (Dense)             (None, 128)               32896     \n",
      "_________________________________________________________________\n",
      "dense_29 (Dense)             (None, 1)                 129       \n",
      "=================================================================\n",
      "Total params: 1,051,585\n",
      "Trainable params: 1,051,585\n",
      "Non-trainable params: 0\n",
      "_________________________________________________________________\n",
      "Epoch 1/200\n",
      "3/3 [==============================] - 0s 89ms/step - loss: 5440.4502 - mae: 50.1362\n",
      "Epoch 2/200\n",
      "3/3 [==============================] - 0s 81ms/step - loss: 46.5040 - mae: 5.2411\n",
      "Epoch 3/200\n",
      "3/3 [==============================] - 0s 80ms/step - loss: 1.9981 - mae: 1.2387\n",
      "Epoch 4/200\n",
      "3/3 [==============================] - 0s 78ms/step - loss: 2.0888 - mae: 1.4203\n",
      "Epoch 5/200\n",
      "3/3 [==============================] - 0s 78ms/step - loss: 0.7016 - mae: 0.6934\n",
      "Epoch 6/200\n",
      "3/3 [==============================] - 0s 81ms/step - loss: 0.5601 - mae: 0.6304\n",
      "Epoch 7/200\n",
      "3/3 [==============================] - 0s 80ms/step - loss: 0.7374 - mae: 0.8351\n",
      "Epoch 8/200\n",
      "3/3 [==============================] - 0s 81ms/step - loss: 0.1721 - mae: 0.3489\n",
      "Epoch 9/200\n",
      "3/3 [==============================] - 0s 79ms/step - loss: 0.3984 - mae: 0.5919\n",
      "Epoch 10/200\n",
      "3/3 [==============================] - 0s 80ms/step - loss: 0.1588 - mae: 0.3308\n",
      "Epoch 11/200\n",
      "3/3 [==============================] - 0s 79ms/step - loss: 0.1768 - mae: 0.3523\n",
      "Epoch 12/200\n",
      "3/3 [==============================] - 0s 79ms/step - loss: 0.1457 - mae: 0.3491\n",
      "Epoch 13/200\n",
      "3/3 [==============================] - 0s 81ms/step - loss: 0.0717 - mae: 0.2207\n",
      "Epoch 14/200\n",
      "1/3 [=========>....................] - ETA: 0s - loss: 0.1045 - mae: 0.2618"
     ]
    },
    {
     "ename": "KeyboardInterrupt",
     "evalue": "ignored",
     "output_type": "error",
     "traceback": [
      "\u001b[0;31m---------------------------------------------------------------------------\u001b[0m",
      "\u001b[0;31mKeyboardInterrupt\u001b[0m                         Traceback (most recent call last)",
      "\u001b[0;32m<ipython-input-236-40ffcc98e66b>\u001b[0m in \u001b[0;36m<module>\u001b[0;34m()\u001b[0m\n\u001b[1;32m     34\u001b[0m \u001b[0;34m\u001b[0m\u001b[0m\n\u001b[1;32m     35\u001b[0m history = model.fit(train_set, epochs=200, callbacks=[\n\u001b[0;32m---> 36\u001b[0;31m                                                       \u001b[0mlr_schedule\u001b[0m\u001b[0;34m,\u001b[0m\u001b[0;34m\u001b[0m\u001b[0;34m\u001b[0m\u001b[0m\n\u001b[0m\u001b[1;32m     37\u001b[0m                                                       \u001b[0;31m# early_stopping,\u001b[0m\u001b[0;34m\u001b[0m\u001b[0;34m\u001b[0m\u001b[0;34m\u001b[0m\u001b[0m\n\u001b[1;32m     38\u001b[0m                                                       ])\n",
      "\u001b[0;32m/usr/local/lib/python3.6/dist-packages/tensorflow/python/keras/engine/training.py\u001b[0m in \u001b[0;36m_method_wrapper\u001b[0;34m(self, *args, **kwargs)\u001b[0m\n\u001b[1;32m    106\u001b[0m   \u001b[0;32mdef\u001b[0m \u001b[0m_method_wrapper\u001b[0m\u001b[0;34m(\u001b[0m\u001b[0mself\u001b[0m\u001b[0;34m,\u001b[0m \u001b[0;34m*\u001b[0m\u001b[0margs\u001b[0m\u001b[0;34m,\u001b[0m \u001b[0;34m**\u001b[0m\u001b[0mkwargs\u001b[0m\u001b[0;34m)\u001b[0m\u001b[0;34m:\u001b[0m\u001b[0;34m\u001b[0m\u001b[0;34m\u001b[0m\u001b[0m\n\u001b[1;32m    107\u001b[0m     \u001b[0;32mif\u001b[0m \u001b[0;32mnot\u001b[0m \u001b[0mself\u001b[0m\u001b[0;34m.\u001b[0m\u001b[0m_in_multi_worker_mode\u001b[0m\u001b[0;34m(\u001b[0m\u001b[0;34m)\u001b[0m\u001b[0;34m:\u001b[0m  \u001b[0;31m# pylint: disable=protected-access\u001b[0m\u001b[0;34m\u001b[0m\u001b[0;34m\u001b[0m\u001b[0m\n\u001b[0;32m--> 108\u001b[0;31m       \u001b[0;32mreturn\u001b[0m \u001b[0mmethod\u001b[0m\u001b[0;34m(\u001b[0m\u001b[0mself\u001b[0m\u001b[0;34m,\u001b[0m \u001b[0;34m*\u001b[0m\u001b[0margs\u001b[0m\u001b[0;34m,\u001b[0m \u001b[0;34m**\u001b[0m\u001b[0mkwargs\u001b[0m\u001b[0;34m)\u001b[0m\u001b[0;34m\u001b[0m\u001b[0;34m\u001b[0m\u001b[0m\n\u001b[0m\u001b[1;32m    109\u001b[0m \u001b[0;34m\u001b[0m\u001b[0m\n\u001b[1;32m    110\u001b[0m     \u001b[0;31m# Running inside `run_distribute_coordinator` already.\u001b[0m\u001b[0;34m\u001b[0m\u001b[0;34m\u001b[0m\u001b[0;34m\u001b[0m\u001b[0m\n",
      "\u001b[0;32m/usr/local/lib/python3.6/dist-packages/tensorflow/python/keras/engine/training.py\u001b[0m in \u001b[0;36mfit\u001b[0;34m(self, x, y, batch_size, epochs, verbose, callbacks, validation_split, validation_data, shuffle, class_weight, sample_weight, initial_epoch, steps_per_epoch, validation_steps, validation_batch_size, validation_freq, max_queue_size, workers, use_multiprocessing)\u001b[0m\n\u001b[1;32m   1101\u001b[0m               \u001b[0mlogs\u001b[0m \u001b[0;34m=\u001b[0m \u001b[0mtmp_logs\u001b[0m  \u001b[0;31m# No error, now safe to assign to logs.\u001b[0m\u001b[0;34m\u001b[0m\u001b[0;34m\u001b[0m\u001b[0m\n\u001b[1;32m   1102\u001b[0m               \u001b[0mend_step\u001b[0m \u001b[0;34m=\u001b[0m \u001b[0mstep\u001b[0m \u001b[0;34m+\u001b[0m \u001b[0mdata_handler\u001b[0m\u001b[0;34m.\u001b[0m\u001b[0mstep_increment\u001b[0m\u001b[0;34m\u001b[0m\u001b[0;34m\u001b[0m\u001b[0m\n\u001b[0;32m-> 1103\u001b[0;31m               \u001b[0mcallbacks\u001b[0m\u001b[0;34m.\u001b[0m\u001b[0mon_train_batch_end\u001b[0m\u001b[0;34m(\u001b[0m\u001b[0mend_step\u001b[0m\u001b[0;34m,\u001b[0m \u001b[0mlogs\u001b[0m\u001b[0;34m)\u001b[0m\u001b[0;34m\u001b[0m\u001b[0;34m\u001b[0m\u001b[0m\n\u001b[0m\u001b[1;32m   1104\u001b[0m         \u001b[0mepoch_logs\u001b[0m \u001b[0;34m=\u001b[0m \u001b[0mcopy\u001b[0m\u001b[0;34m.\u001b[0m\u001b[0mcopy\u001b[0m\u001b[0;34m(\u001b[0m\u001b[0mlogs\u001b[0m\u001b[0;34m)\u001b[0m\u001b[0;34m\u001b[0m\u001b[0;34m\u001b[0m\u001b[0m\n\u001b[1;32m   1105\u001b[0m \u001b[0;34m\u001b[0m\u001b[0m\n",
      "\u001b[0;32m/usr/local/lib/python3.6/dist-packages/tensorflow/python/keras/callbacks.py\u001b[0m in \u001b[0;36mon_train_batch_end\u001b[0;34m(self, batch, logs)\u001b[0m\n\u001b[1;32m    438\u001b[0m     \"\"\"\n\u001b[1;32m    439\u001b[0m     \u001b[0;32mif\u001b[0m \u001b[0mself\u001b[0m\u001b[0;34m.\u001b[0m\u001b[0m_should_call_train_batch_hooks\u001b[0m\u001b[0;34m:\u001b[0m\u001b[0;34m\u001b[0m\u001b[0;34m\u001b[0m\u001b[0m\n\u001b[0;32m--> 440\u001b[0;31m       \u001b[0mself\u001b[0m\u001b[0;34m.\u001b[0m\u001b[0m_call_batch_hook\u001b[0m\u001b[0;34m(\u001b[0m\u001b[0mModeKeys\u001b[0m\u001b[0;34m.\u001b[0m\u001b[0mTRAIN\u001b[0m\u001b[0;34m,\u001b[0m \u001b[0;34m'end'\u001b[0m\u001b[0;34m,\u001b[0m \u001b[0mbatch\u001b[0m\u001b[0;34m,\u001b[0m \u001b[0mlogs\u001b[0m\u001b[0;34m=\u001b[0m\u001b[0mlogs\u001b[0m\u001b[0;34m)\u001b[0m\u001b[0;34m\u001b[0m\u001b[0;34m\u001b[0m\u001b[0m\n\u001b[0m\u001b[1;32m    441\u001b[0m \u001b[0;34m\u001b[0m\u001b[0m\n\u001b[1;32m    442\u001b[0m   \u001b[0;32mdef\u001b[0m \u001b[0mon_test_batch_begin\u001b[0m\u001b[0;34m(\u001b[0m\u001b[0mself\u001b[0m\u001b[0;34m,\u001b[0m \u001b[0mbatch\u001b[0m\u001b[0;34m,\u001b[0m \u001b[0mlogs\u001b[0m\u001b[0;34m=\u001b[0m\u001b[0;32mNone\u001b[0m\u001b[0;34m)\u001b[0m\u001b[0;34m:\u001b[0m\u001b[0;34m\u001b[0m\u001b[0;34m\u001b[0m\u001b[0m\n",
      "\u001b[0;32m/usr/local/lib/python3.6/dist-packages/tensorflow/python/keras/callbacks.py\u001b[0m in \u001b[0;36m_call_batch_hook\u001b[0;34m(self, mode, hook, batch, logs)\u001b[0m\n\u001b[1;32m    287\u001b[0m       \u001b[0mself\u001b[0m\u001b[0;34m.\u001b[0m\u001b[0m_call_batch_begin_hook\u001b[0m\u001b[0;34m(\u001b[0m\u001b[0mmode\u001b[0m\u001b[0;34m,\u001b[0m \u001b[0mbatch\u001b[0m\u001b[0;34m,\u001b[0m \u001b[0mlogs\u001b[0m\u001b[0;34m)\u001b[0m\u001b[0;34m\u001b[0m\u001b[0;34m\u001b[0m\u001b[0m\n\u001b[1;32m    288\u001b[0m     \u001b[0;32melif\u001b[0m \u001b[0mhook\u001b[0m \u001b[0;34m==\u001b[0m \u001b[0;34m'end'\u001b[0m\u001b[0;34m:\u001b[0m\u001b[0;34m\u001b[0m\u001b[0;34m\u001b[0m\u001b[0m\n\u001b[0;32m--> 289\u001b[0;31m       \u001b[0mself\u001b[0m\u001b[0;34m.\u001b[0m\u001b[0m_call_batch_end_hook\u001b[0m\u001b[0;34m(\u001b[0m\u001b[0mmode\u001b[0m\u001b[0;34m,\u001b[0m \u001b[0mbatch\u001b[0m\u001b[0;34m,\u001b[0m \u001b[0mlogs\u001b[0m\u001b[0;34m)\u001b[0m\u001b[0;34m\u001b[0m\u001b[0;34m\u001b[0m\u001b[0m\n\u001b[0m\u001b[1;32m    290\u001b[0m     \u001b[0;32melse\u001b[0m\u001b[0;34m:\u001b[0m\u001b[0;34m\u001b[0m\u001b[0;34m\u001b[0m\u001b[0m\n\u001b[1;32m    291\u001b[0m       \u001b[0;32mraise\u001b[0m \u001b[0mValueError\u001b[0m\u001b[0;34m(\u001b[0m\u001b[0;34m'Unrecognized hook: {}'\u001b[0m\u001b[0;34m.\u001b[0m\u001b[0mformat\u001b[0m\u001b[0;34m(\u001b[0m\u001b[0mhook\u001b[0m\u001b[0;34m)\u001b[0m\u001b[0;34m)\u001b[0m\u001b[0;34m\u001b[0m\u001b[0;34m\u001b[0m\u001b[0m\n",
      "\u001b[0;32m/usr/local/lib/python3.6/dist-packages/tensorflow/python/keras/callbacks.py\u001b[0m in \u001b[0;36m_call_batch_end_hook\u001b[0;34m(self, mode, batch, logs)\u001b[0m\n\u001b[1;32m    307\u001b[0m       \u001b[0mbatch_time\u001b[0m \u001b[0;34m=\u001b[0m \u001b[0mtime\u001b[0m\u001b[0;34m.\u001b[0m\u001b[0mtime\u001b[0m\u001b[0;34m(\u001b[0m\u001b[0;34m)\u001b[0m \u001b[0;34m-\u001b[0m \u001b[0mself\u001b[0m\u001b[0;34m.\u001b[0m\u001b[0m_batch_start_time\u001b[0m\u001b[0;34m\u001b[0m\u001b[0;34m\u001b[0m\u001b[0m\n\u001b[1;32m    308\u001b[0m \u001b[0;34m\u001b[0m\u001b[0m\n\u001b[0;32m--> 309\u001b[0;31m     \u001b[0mself\u001b[0m\u001b[0;34m.\u001b[0m\u001b[0m_call_batch_hook_helper\u001b[0m\u001b[0;34m(\u001b[0m\u001b[0mhook_name\u001b[0m\u001b[0;34m,\u001b[0m \u001b[0mbatch\u001b[0m\u001b[0;34m,\u001b[0m \u001b[0mlogs\u001b[0m\u001b[0;34m)\u001b[0m\u001b[0;34m\u001b[0m\u001b[0;34m\u001b[0m\u001b[0m\n\u001b[0m\u001b[1;32m    310\u001b[0m \u001b[0;34m\u001b[0m\u001b[0m\n\u001b[1;32m    311\u001b[0m     \u001b[0;32mif\u001b[0m \u001b[0mself\u001b[0m\u001b[0;34m.\u001b[0m\u001b[0m_check_timing\u001b[0m\u001b[0;34m:\u001b[0m\u001b[0;34m\u001b[0m\u001b[0;34m\u001b[0m\u001b[0m\n",
      "\u001b[0;32m/usr/local/lib/python3.6/dist-packages/tensorflow/python/keras/callbacks.py\u001b[0m in \u001b[0;36m_call_batch_hook_helper\u001b[0;34m(self, hook_name, batch, logs)\u001b[0m\n\u001b[1;32m    343\u001b[0m       \u001b[0;32melse\u001b[0m\u001b[0;34m:\u001b[0m\u001b[0;34m\u001b[0m\u001b[0;34m\u001b[0m\u001b[0m\n\u001b[1;32m    344\u001b[0m         \u001b[0;32mif\u001b[0m \u001b[0mnumpy_logs\u001b[0m \u001b[0;32mis\u001b[0m \u001b[0;32mNone\u001b[0m\u001b[0;34m:\u001b[0m  \u001b[0;31m# Only convert once.\u001b[0m\u001b[0;34m\u001b[0m\u001b[0;34m\u001b[0m\u001b[0m\n\u001b[0;32m--> 345\u001b[0;31m           \u001b[0mnumpy_logs\u001b[0m \u001b[0;34m=\u001b[0m \u001b[0mtf_utils\u001b[0m\u001b[0;34m.\u001b[0m\u001b[0mto_numpy_or_python_type\u001b[0m\u001b[0;34m(\u001b[0m\u001b[0mlogs\u001b[0m\u001b[0;34m)\u001b[0m\u001b[0;34m\u001b[0m\u001b[0;34m\u001b[0m\u001b[0m\n\u001b[0m\u001b[1;32m    346\u001b[0m         \u001b[0mhook\u001b[0m\u001b[0;34m(\u001b[0m\u001b[0mbatch\u001b[0m\u001b[0;34m,\u001b[0m \u001b[0mnumpy_logs\u001b[0m\u001b[0;34m)\u001b[0m\u001b[0;34m\u001b[0m\u001b[0;34m\u001b[0m\u001b[0m\n\u001b[1;32m    347\u001b[0m \u001b[0;34m\u001b[0m\u001b[0m\n",
      "\u001b[0;32m/usr/local/lib/python3.6/dist-packages/tensorflow/python/keras/utils/tf_utils.py\u001b[0m in \u001b[0;36mto_numpy_or_python_type\u001b[0;34m(tensors)\u001b[0m\n\u001b[1;32m    535\u001b[0m     \u001b[0;32mreturn\u001b[0m \u001b[0mt\u001b[0m  \u001b[0;31m# Don't turn ragged or sparse tensors to NumPy.\u001b[0m\u001b[0;34m\u001b[0m\u001b[0;34m\u001b[0m\u001b[0m\n\u001b[1;32m    536\u001b[0m \u001b[0;34m\u001b[0m\u001b[0m\n\u001b[0;32m--> 537\u001b[0;31m   \u001b[0;32mreturn\u001b[0m \u001b[0mnest\u001b[0m\u001b[0;34m.\u001b[0m\u001b[0mmap_structure\u001b[0m\u001b[0;34m(\u001b[0m\u001b[0m_to_single_numpy_or_python_type\u001b[0m\u001b[0;34m,\u001b[0m \u001b[0mtensors\u001b[0m\u001b[0;34m)\u001b[0m\u001b[0;34m\u001b[0m\u001b[0;34m\u001b[0m\u001b[0m\n\u001b[0m\u001b[1;32m    538\u001b[0m \u001b[0;34m\u001b[0m\u001b[0m\n\u001b[1;32m    539\u001b[0m \u001b[0;34m\u001b[0m\u001b[0m\n",
      "\u001b[0;32m/usr/local/lib/python3.6/dist-packages/tensorflow/python/util/nest.py\u001b[0m in \u001b[0;36mmap_structure\u001b[0;34m(func, *structure, **kwargs)\u001b[0m\n\u001b[1;32m    633\u001b[0m \u001b[0;34m\u001b[0m\u001b[0m\n\u001b[1;32m    634\u001b[0m   return pack_sequence_as(\n\u001b[0;32m--> 635\u001b[0;31m       \u001b[0mstructure\u001b[0m\u001b[0;34m[\u001b[0m\u001b[0;36m0\u001b[0m\u001b[0;34m]\u001b[0m\u001b[0;34m,\u001b[0m \u001b[0;34m[\u001b[0m\u001b[0mfunc\u001b[0m\u001b[0;34m(\u001b[0m\u001b[0;34m*\u001b[0m\u001b[0mx\u001b[0m\u001b[0;34m)\u001b[0m \u001b[0;32mfor\u001b[0m \u001b[0mx\u001b[0m \u001b[0;32min\u001b[0m \u001b[0mentries\u001b[0m\u001b[0;34m]\u001b[0m\u001b[0;34m,\u001b[0m\u001b[0;34m\u001b[0m\u001b[0;34m\u001b[0m\u001b[0m\n\u001b[0m\u001b[1;32m    636\u001b[0m       expand_composites=expand_composites)\n\u001b[1;32m    637\u001b[0m \u001b[0;34m\u001b[0m\u001b[0m\n",
      "\u001b[0;32m/usr/local/lib/python3.6/dist-packages/tensorflow/python/util/nest.py\u001b[0m in \u001b[0;36m<listcomp>\u001b[0;34m(.0)\u001b[0m\n\u001b[1;32m    633\u001b[0m \u001b[0;34m\u001b[0m\u001b[0m\n\u001b[1;32m    634\u001b[0m   return pack_sequence_as(\n\u001b[0;32m--> 635\u001b[0;31m       \u001b[0mstructure\u001b[0m\u001b[0;34m[\u001b[0m\u001b[0;36m0\u001b[0m\u001b[0;34m]\u001b[0m\u001b[0;34m,\u001b[0m \u001b[0;34m[\u001b[0m\u001b[0mfunc\u001b[0m\u001b[0;34m(\u001b[0m\u001b[0;34m*\u001b[0m\u001b[0mx\u001b[0m\u001b[0;34m)\u001b[0m \u001b[0;32mfor\u001b[0m \u001b[0mx\u001b[0m \u001b[0;32min\u001b[0m \u001b[0mentries\u001b[0m\u001b[0;34m]\u001b[0m\u001b[0;34m,\u001b[0m\u001b[0;34m\u001b[0m\u001b[0;34m\u001b[0m\u001b[0m\n\u001b[0m\u001b[1;32m    636\u001b[0m       expand_composites=expand_composites)\n\u001b[1;32m    637\u001b[0m \u001b[0;34m\u001b[0m\u001b[0m\n",
      "\u001b[0;32m/usr/local/lib/python3.6/dist-packages/tensorflow/python/keras/utils/tf_utils.py\u001b[0m in \u001b[0;36m_to_single_numpy_or_python_type\u001b[0;34m(t)\u001b[0m\n\u001b[1;32m    531\u001b[0m   \u001b[0;32mdef\u001b[0m \u001b[0m_to_single_numpy_or_python_type\u001b[0m\u001b[0;34m(\u001b[0m\u001b[0mt\u001b[0m\u001b[0;34m)\u001b[0m\u001b[0;34m:\u001b[0m\u001b[0;34m\u001b[0m\u001b[0;34m\u001b[0m\u001b[0m\n\u001b[1;32m    532\u001b[0m     \u001b[0;32mif\u001b[0m \u001b[0misinstance\u001b[0m\u001b[0;34m(\u001b[0m\u001b[0mt\u001b[0m\u001b[0;34m,\u001b[0m \u001b[0mops\u001b[0m\u001b[0;34m.\u001b[0m\u001b[0mTensor\u001b[0m\u001b[0;34m)\u001b[0m\u001b[0;34m:\u001b[0m\u001b[0;34m\u001b[0m\u001b[0;34m\u001b[0m\u001b[0m\n\u001b[0;32m--> 533\u001b[0;31m       \u001b[0mx\u001b[0m \u001b[0;34m=\u001b[0m \u001b[0mt\u001b[0m\u001b[0;34m.\u001b[0m\u001b[0mnumpy\u001b[0m\u001b[0;34m(\u001b[0m\u001b[0;34m)\u001b[0m\u001b[0;34m\u001b[0m\u001b[0;34m\u001b[0m\u001b[0m\n\u001b[0m\u001b[1;32m    534\u001b[0m       \u001b[0;32mreturn\u001b[0m \u001b[0mx\u001b[0m\u001b[0;34m.\u001b[0m\u001b[0mitem\u001b[0m\u001b[0;34m(\u001b[0m\u001b[0;34m)\u001b[0m \u001b[0;32mif\u001b[0m \u001b[0mnp\u001b[0m\u001b[0;34m.\u001b[0m\u001b[0mndim\u001b[0m\u001b[0;34m(\u001b[0m\u001b[0mx\u001b[0m\u001b[0;34m)\u001b[0m \u001b[0;34m==\u001b[0m \u001b[0;36m0\u001b[0m \u001b[0;32melse\u001b[0m \u001b[0mx\u001b[0m\u001b[0;34m\u001b[0m\u001b[0;34m\u001b[0m\u001b[0m\n\u001b[1;32m    535\u001b[0m     \u001b[0;32mreturn\u001b[0m \u001b[0mt\u001b[0m  \u001b[0;31m# Don't turn ragged or sparse tensors to NumPy.\u001b[0m\u001b[0;34m\u001b[0m\u001b[0;34m\u001b[0m\u001b[0m\n",
      "\u001b[0;32m/usr/local/lib/python3.6/dist-packages/tensorflow/python/framework/ops.py\u001b[0m in \u001b[0;36mnumpy\u001b[0;34m(self)\u001b[0m\n\u001b[1;32m   1061\u001b[0m     \"\"\"\n\u001b[1;32m   1062\u001b[0m     \u001b[0;31m# TODO(slebedev): Consider avoiding a copy for non-CPU or remote tensors.\u001b[0m\u001b[0;34m\u001b[0m\u001b[0;34m\u001b[0m\u001b[0;34m\u001b[0m\u001b[0m\n\u001b[0;32m-> 1063\u001b[0;31m     \u001b[0mmaybe_arr\u001b[0m \u001b[0;34m=\u001b[0m \u001b[0mself\u001b[0m\u001b[0;34m.\u001b[0m\u001b[0m_numpy\u001b[0m\u001b[0;34m(\u001b[0m\u001b[0;34m)\u001b[0m  \u001b[0;31m# pylint: disable=protected-access\u001b[0m\u001b[0;34m\u001b[0m\u001b[0;34m\u001b[0m\u001b[0m\n\u001b[0m\u001b[1;32m   1064\u001b[0m     \u001b[0;32mreturn\u001b[0m \u001b[0mmaybe_arr\u001b[0m\u001b[0;34m.\u001b[0m\u001b[0mcopy\u001b[0m\u001b[0;34m(\u001b[0m\u001b[0;34m)\u001b[0m \u001b[0;32mif\u001b[0m \u001b[0misinstance\u001b[0m\u001b[0;34m(\u001b[0m\u001b[0mmaybe_arr\u001b[0m\u001b[0;34m,\u001b[0m \u001b[0mnp\u001b[0m\u001b[0;34m.\u001b[0m\u001b[0mndarray\u001b[0m\u001b[0;34m)\u001b[0m \u001b[0;32melse\u001b[0m \u001b[0mmaybe_arr\u001b[0m\u001b[0;34m\u001b[0m\u001b[0;34m\u001b[0m\u001b[0m\n\u001b[1;32m   1065\u001b[0m \u001b[0;34m\u001b[0m\u001b[0m\n",
      "\u001b[0;32m/usr/local/lib/python3.6/dist-packages/tensorflow/python/framework/ops.py\u001b[0m in \u001b[0;36m_numpy\u001b[0;34m(self)\u001b[0m\n\u001b[1;32m   1027\u001b[0m   \u001b[0;32mdef\u001b[0m \u001b[0m_numpy\u001b[0m\u001b[0;34m(\u001b[0m\u001b[0mself\u001b[0m\u001b[0;34m)\u001b[0m\u001b[0;34m:\u001b[0m\u001b[0;34m\u001b[0m\u001b[0;34m\u001b[0m\u001b[0m\n\u001b[1;32m   1028\u001b[0m     \u001b[0;32mtry\u001b[0m\u001b[0;34m:\u001b[0m\u001b[0;34m\u001b[0m\u001b[0;34m\u001b[0m\u001b[0m\n\u001b[0;32m-> 1029\u001b[0;31m       \u001b[0;32mreturn\u001b[0m \u001b[0mself\u001b[0m\u001b[0;34m.\u001b[0m\u001b[0m_numpy_internal\u001b[0m\u001b[0;34m(\u001b[0m\u001b[0;34m)\u001b[0m\u001b[0;34m\u001b[0m\u001b[0;34m\u001b[0m\u001b[0m\n\u001b[0m\u001b[1;32m   1030\u001b[0m     \u001b[0;32mexcept\u001b[0m \u001b[0mcore\u001b[0m\u001b[0;34m.\u001b[0m\u001b[0m_NotOkStatusException\u001b[0m \u001b[0;32mas\u001b[0m \u001b[0me\u001b[0m\u001b[0;34m:\u001b[0m  \u001b[0;31m# pylint: disable=protected-access\u001b[0m\u001b[0;34m\u001b[0m\u001b[0;34m\u001b[0m\u001b[0m\n\u001b[1;32m   1031\u001b[0m       \u001b[0msix\u001b[0m\u001b[0;34m.\u001b[0m\u001b[0mraise_from\u001b[0m\u001b[0;34m(\u001b[0m\u001b[0mcore\u001b[0m\u001b[0;34m.\u001b[0m\u001b[0m_status_to_exception\u001b[0m\u001b[0;34m(\u001b[0m\u001b[0me\u001b[0m\u001b[0;34m.\u001b[0m\u001b[0mcode\u001b[0m\u001b[0;34m,\u001b[0m \u001b[0me\u001b[0m\u001b[0;34m.\u001b[0m\u001b[0mmessage\u001b[0m\u001b[0;34m)\u001b[0m\u001b[0;34m,\u001b[0m \u001b[0;32mNone\u001b[0m\u001b[0;34m)\u001b[0m  \u001b[0;31m# pylint: disable=protected-access\u001b[0m\u001b[0;34m\u001b[0m\u001b[0;34m\u001b[0m\u001b[0m\n",
      "\u001b[0;31mKeyboardInterrupt\u001b[0m: "
     ]
    }
   ],
   "source": [
    "model = tf.keras.models.Sequential([\n",
    "  # tf.keras.layers.Lambda(lambda x: tf.expand_dims(x, axis=-1), batch_input_shape=[None, window_size, series.shape[1]]),\n",
    "  # tf.keras.layers.TimeDistributed(tf.keras.layers.Conv1D(filters=32, kernel_size=3), name=\"Conv1d_1\"),\n",
    "  # tf.keras.layers.TimeDistributed(tf.keras.layers.MaxPool1D(pool_size=2), name=\"maxpool_1\"),\n",
    "  # tf.keras.layers.TimeDistributed(tf.keras.layers.Dropout(0.2), name=\"dropout_1\"),\n",
    "  # tf.keras.layers.TimeDistributed(tf.keras.layers.Conv1D(filters=32, kernel_size=3), name=\"Conv1d_2\"),\n",
    "  # tf.keras.layers.TimeDistributed(tf.keras.layers.MaxPool1D(pool_size=2), name=\"maxpool_2\"),\n",
    "  # tf.keras.layers.TimeDistributed(tf.keras.layers.Dropout(0.2), name=\"dropout_2\"),\n",
    "  # tf.keras.layers.TimeDistributed(tf.keras.layers.Flatten(), name=\"flatten\"),\n",
    "  tf.keras.layers.Conv1D(filters=128, kernel_size=3, padding=\"causal\", activation=\"relu\", input_shape=[None, series.shape[1]]),\n",
    "  # tf.keras.layers.MaxPool1D(pool_size=2),\n",
    "  tf.keras.layers.Conv1D(filters=64, kernel_size=3, padding=\"causal\", activation=\"relu\"),\n",
    "  # tf.keras.layers.MaxPool1D(pool_size=2),\n",
    "  # tf.keras.layers.Bidirectional(tf.keras.layers.LSTM(32)),\n",
    "  tf.keras.layers.Bidirectional(tf.keras.layers.LSTM(128, return_sequences=True)),\n",
    "  tf.keras.layers.Bidirectional(tf.keras.layers.LSTM(128, return_sequences=True)),\n",
    "  # tf.keras.layers.Bidirectional(tf.keras.layers.LSTM(32, return_sequences=True)),\n",
    "  tf.keras.layers.Bidirectional(tf.keras.layers.LSTM(128)),\n",
    "  tf.keras.layers.Dense(128, activation=\"relu\"),\n",
    "  tf.keras.layers.Dense(1),\n",
    "  # tf.keras.layers.Lambda(lambda x: x * 100.0)\n",
    "])\n",
    "\n",
    "lr = 0.1\n",
    "lr_schedule = tf.keras.callbacks.LearningRateScheduler(lambda epoch: lr * np.power(0.6, np.floor((1 + epoch)/20)))\n",
    "early_stopping = tf.keras.callbacks.EarlyStopping(monitor=\"mae\", patience=5, restore_best_weights=True)\n",
    "optimizer = tf.keras.optimizers.Adam(lr=lr)\n",
    "# optimizer = tf.keras.optimizers.SGD(lr=lr, momentum=0.9)\n",
    "model.compile(loss=\"mse\",\n",
    "              optimizer=optimizer,\n",
    "              metrics=[\"mae\"])\n",
    "\n",
    "model.summary()\n",
    "\n",
    "history = model.fit(train_set, epochs=200, callbacks=[\n",
    "                                                      lr_schedule, \n",
    "                                                      # early_stopping,\n",
    "                                                      ])"
   ]
  },
  {
   "cell_type": "code",
   "execution_count": null,
   "metadata": {
    "executionInfo": {
     "elapsed": 16097,
     "status": "aborted",
     "timestamp": 1602798604394,
     "user": {
      "displayName": "Soroush Hashemi far",
      "photoUrl": "https://lh3.googleusercontent.com/a-/AOh14GhW4Xr7tc9srvIXCJXmdcx1GJjXi6IMiRDvUYvr=s64",
      "userId": "07805534226912513111"
     },
     "user_tz": -210
    },
    "id": "3d9hMzqfCb6j"
   },
   "outputs": [],
   "source": [
    "plt.plot(np.arange(200), 0.1*np.power(0.6, np.floor((1 + np.arange(200))/20)))"
   ]
  },
  {
   "cell_type": "code",
   "execution_count": null,
   "metadata": {
    "executionInfo": {
     "elapsed": 15823,
     "status": "aborted",
     "timestamp": 1602798604398,
     "user": {
      "displayName": "Soroush Hashemi far",
      "photoUrl": "https://lh3.googleusercontent.com/a-/AOh14GhW4Xr7tc9srvIXCJXmdcx1GJjXi6IMiRDvUYvr=s64",
      "userId": "07805534226912513111"
     },
     "user_tz": -210
    },
    "id": "SZ24fl2RFv4N"
   },
   "outputs": [],
   "source": [
    "plt.semilogx(history.history[\"lr\"], history.history[\"loss\"])\n",
    "plt.show()"
   ]
  },
  {
   "cell_type": "code",
   "execution_count": null,
   "metadata": {
    "executionInfo": {
     "elapsed": 15538,
     "status": "aborted",
     "timestamp": 1602798604399,
     "user": {
      "displayName": "Soroush Hashemi far",
      "photoUrl": "https://lh3.googleusercontent.com/a-/AOh14GhW4Xr7tc9srvIXCJXmdcx1GJjXi6IMiRDvUYvr=s64",
      "userId": "07805534226912513111"
     },
     "user_tz": -210
    },
    "id": "x0TlXVpIG8xU"
   },
   "outputs": [],
   "source": [
    "# optimizer = tf.keras.optimizers.SGD(lr=5e-4, momentum=0.9)\n",
    "# model.compile(loss=tf.keras.losses.Huber(),\n",
    "#               optimizer=optimizer,\n",
    "#               metrics=[\"mae\"])\n",
    "\n",
    "# history = model.fit(train_set, epochs=400)"
   ]
  },
  {
   "cell_type": "code",
   "execution_count": null,
   "metadata": {
    "executionInfo": {
     "elapsed": 15187,
     "status": "aborted",
     "timestamp": 1602798604401,
     "user": {
      "displayName": "Soroush Hashemi far",
      "photoUrl": "https://lh3.googleusercontent.com/a-/AOh14GhW4Xr7tc9srvIXCJXmdcx1GJjXi6IMiRDvUYvr=s64",
      "userId": "07805534226912513111"
     },
     "user_tz": -210
    },
    "id": "57rVTqa3HquB"
   },
   "outputs": [],
   "source": [
    "def plot_series(time, series, label, format=\"-\", start=0, end=None):\n",
    "    plt.plot(time[start:end], series[start:end], format, label=label)\n",
    "    plt.xlabel(\"Time\")\n",
    "    plt.ylabel(\"Value\")\n",
    "    plt.grid(True)\n",
    "    plt.legend()"
   ]
  },
  {
   "cell_type": "code",
   "execution_count": null,
   "metadata": {
    "executionInfo": {
     "elapsed": 14298,
     "status": "aborted",
     "timestamp": 1602798604402,
     "user": {
      "displayName": "Soroush Hashemi far",
      "photoUrl": "https://lh3.googleusercontent.com/a-/AOh14GhW4Xr7tc9srvIXCJXmdcx1GJjXi6IMiRDvUYvr=s64",
      "userId": "07805534226912513111"
     },
     "user_tz": -210
    },
    "id": "4wC07dn-Q_Ee"
   },
   "outputs": [],
   "source": [
    "# scaler2 = MinMaxScaler()\n",
    "# scaler2.data_max_ = scaler.data_max_[0]\n",
    "# scaler2.data_min_ = scaler.data_min_[0]\n",
    "# scaler2.min_ = scaler.min_[0]\n",
    "# scaler2.scale_ = scaler.scale_[0]"
   ]
  },
  {
   "cell_type": "code",
   "execution_count": 227,
   "metadata": {
    "colab": {
     "base_uri": "https://localhost:8080/",
     "height": 388
    },
    "executionInfo": {
     "elapsed": 170168,
     "status": "ok",
     "timestamp": 1602798274272,
     "user": {
      "displayName": "Soroush Hashemi far",
      "photoUrl": "https://lh3.googleusercontent.com/a-/AOh14GhW4Xr7tc9srvIXCJXmdcx1GJjXi6IMiRDvUYvr=s64",
      "userId": "07805534226912513111"
     },
     "user_tz": -210
    },
    "id": "gRBVl2XCHV4V",
    "outputId": "233956ef-1ec4-456f-f4d3-69a28a0967a0"
   },
   "outputs": [
    {
     "data": {
      "image/png": "[encoded data removed]",
      "text/plain": [
       "<Figure size 720x432 with 1 Axes>"
      ]
     },
     "metadata": {
      "needs_background": "light",
      "tags": []
     },
     "output_type": "display_data"
    }
   ],
   "source": [
    "forecast=[]\n",
    "for time in range(len(series) - window_size):\n",
    "  pred = model.predict(series[time:time + window_size][np.newaxis])\n",
    "  # rescaled_pred = scaler2.inverse_transform(pred)\n",
    "  # pred = pred / 100.\n",
    "  forecast.append(pred)\n",
    "\n",
    "forecast = forecast[split_time-window_size:]\n",
    "results = np.array(forecast)[:, 0, 0]\n",
    "\n",
    "plt.figure(figsize=(10, 6))\n",
    "plot_series(time_valid, x_valid[:, 0], \"real\")\n",
    "plot_series(time_valid, results, \"predicted\")"
   ]
  },
  {
   "cell_type": "code",
   "execution_count": 228,
   "metadata": {
    "colab": {
     "base_uri": "https://localhost:8080/",
     "height": 34
    },
    "executionInfo": {
     "elapsed": 169803,
     "status": "ok",
     "timestamp": 1602798274274,
     "user": {
      "displayName": "Soroush Hashemi far",
      "photoUrl": "https://lh3.googleusercontent.com/a-/AOh14GhW4Xr7tc9srvIXCJXmdcx1GJjXi6IMiRDvUYvr=s64",
      "userId": "07805534226912513111"
     },
     "user_tz": -210
    },
    "id": "Gv9I78R8HbJV",
    "outputId": "75ff0023-5e7e-4433-c19e-1bdda2e37138"
   },
   "outputs": [
    {
     "data": {
      "text/plain": [
       "0.032669377"
      ]
     },
     "execution_count": 228,
     "metadata": {
      "tags": []
     },
     "output_type": "execute_result"
    }
   ],
   "source": [
    "tf.keras.metrics.mean_absolute_error(x_valid[:, 0], results).numpy()"
   ]
  },
  {
   "cell_type": "code",
   "execution_count": 72,
   "metadata": {
    "executionInfo": {
     "elapsed": 91654,
     "status": "ok",
     "timestamp": 1602794689971,
     "user": {
      "displayName": "Soroush Hashemi far",
      "photoUrl": "https://lh3.googleusercontent.com/a-/AOh14GhW4Xr7tc9srvIXCJXmdcx1GJjXi6IMiRDvUYvr=s64",
      "userId": "07805534226912513111"
     },
     "user_tz": -210
    },
    "id": "hlzyjezACV9H"
   },
   "outputs": [],
   "source": [
    "## Test phase"
   ]
  },
  {
   "cell_type": "code",
   "execution_count": null,
   "metadata": {
    "colab": {
     "base_uri": "https://localhost:8080/",
     "height": 34
    },
    "executionInfo": {
     "elapsed": 38313,
     "status": "ok",
     "timestamp": 1602677109187,
     "user": {
      "displayName": "Soroush Hashemi far",
      "photoUrl": "https://lh3.googleusercontent.com/a-/AOh14GhW4Xr7tc9srvIXCJXmdcx1GJjXi6IMiRDvUYvr=s64",
      "userId": "07805534226912513111"
     },
     "user_tz": -210
    },
    "id": "veIpXTL2HblP",
    "outputId": "9e9903b5-2aba-416a-c8ae-f998b8491c96"
   },
   "outputs": [
    {
     "data": {
      "text/plain": [
       "0.0011415184"
      ]
     },
     "execution_count": 298,
     "metadata": {
      "tags": []
     },
     "output_type": "execute_result"
    }
   ],
   "source": [
    "model.predict(series[-window_size:][np.newaxis])[0, 0] - model.predict(series[-window_size-1:-1][np.newaxis])[0, 0]"
   ]
  },
  {
   "cell_type": "code",
   "execution_count": null,
   "metadata": {
    "colab": {
     "base_uri": "https://localhost:8080/",
     "height": 51
    },
    "executionInfo": {
     "elapsed": 37925,
     "status": "ok",
     "timestamp": 1602677109188,
     "user": {
      "displayName": "Soroush Hashemi far",
      "photoUrl": "https://lh3.googleusercontent.com/a-/AOh14GhW4Xr7tc9srvIXCJXmdcx1GJjXi6IMiRDvUYvr=s64",
      "userId": "07805534226912513111"
     },
     "user_tz": -210
    },
    "id": "rMKezvXDnbLe",
    "outputId": "bd1c05bc-3a15-454a-9228-578f8f6851ad"
   },
   "outputs": [
    {
     "name": "stdout",
     "output_type": "stream",
     "text": [
      "366.3563\n",
      "367.93732\n"
     ]
    }
   ],
   "source": [
    "scaler2 = MinMaxScaler()\n",
    "scaler2.min_ = scaler.min_[0]\n",
    "scaler2.scale_ = scaler.scale_[0]\n",
    "print(scaler2.inverse_transform(model.predict(series[-window_size-1:-1][np.newaxis]))[0, 0])\n",
    "print(scaler2.inverse_transform(model.predict(series[-window_size:][np.newaxis]))[0, 0])"
   ]
  },
  {
   "cell_type": "code",
   "execution_count": 16,
   "metadata": {
    "id": "2dTVSFm9ofnv"
   },
   "outputs": [
    {
     "name": "stdout",
     "output_type": "stream",
     "text": [
      "1887 rows\n",
      "Latest row is from 2022-10-15 00:00:00\n"
     ]
    },
    {
     "name": "stderr",
     "output_type": "stream",
     "text": [
      "04:03:15 - cmdstanpy - INFO - Chain [1] start processing\n",
      "04:03:15 - cmdstanpy - INFO - Chain [1] done processing\n"
     ]
    },
    {
     "name": "stdout",
     "output_type": "stream",
     "text": [
      "Data fitted\n",
      "          Date    Price  Price (forecast)        trend   yhat_lower  \\\n",
      "0   2022-10-15  1297.60               NaN          NaN          NaN   \n",
      "1   2022-10-14  1296.27               NaN          NaN          NaN   \n",
      "2   2022-10-13  1287.08               NaN          NaN          NaN   \n",
      "3   2022-10-12  1294.44               NaN          NaN          NaN   \n",
      "4   2022-10-11  1280.11               NaN          NaN          NaN   \n",
      "..         ...      ...               ...          ...          ...   \n",
      "360 2023-10-11      NaN      -1362.621078 -1292.768737 -2513.604266   \n",
      "361 2023-10-12      NaN      -1364.959594 -1299.721306 -2552.413530   \n",
      "362 2023-10-13      NaN      -1365.764411 -1306.673874 -2534.328716   \n",
      "363 2023-10-14      NaN      -1356.952787 -1313.626442 -2526.770344   \n",
      "364 2023-10-15      NaN      -1350.814133 -1320.579010 -2594.238404   \n",
      "\n",
      "     yhat_upper  trend_lower  trend_upper  additive_terms  \\\n",
      "0           NaN          NaN          NaN             NaN   \n",
      "1           NaN          NaN          NaN             NaN   \n",
      "2           NaN          NaN          NaN             NaN   \n",
      "3           NaN          NaN          NaN             NaN   \n",
      "4           NaN          NaN          NaN             NaN   \n",
      "..          ...          ...          ...             ...   \n",
      "360 -256.634530 -2443.678749  -272.542855      -69.852341   \n",
      "361 -272.361697 -2455.046789  -275.286299      -65.238288   \n",
      "362 -157.596564 -2466.414828  -277.789790      -59.090537   \n",
      "363 -237.867540 -2478.470792  -278.110274      -43.326344   \n",
      "364 -197.433900 -2491.842636  -280.403143      -30.235123   \n",
      "\n",
      "     additive_terms_lower  ...  daily_upper    weekly  weekly_lower  \\\n",
      "0                     NaN  ...          NaN       NaN           NaN   \n",
      "1                     NaN  ...          NaN       NaN           NaN   \n",
      "2                     NaN  ...          NaN       NaN           NaN   \n",
      "3                     NaN  ...          NaN       NaN           NaN   \n",
      "4                     NaN  ...          NaN       NaN           NaN   \n",
      "..                    ...  ...          ...       ...           ...   \n",
      "360            -69.852341  ...    38.943869  5.213240      5.213240   \n",
      "361            -65.238288  ...    38.943869 -0.655001     -0.655001   \n",
      "362            -59.090537  ...    38.943869 -5.533800     -5.533800   \n",
      "363            -43.326344  ...    38.943869 -1.233786     -1.233786   \n",
      "364            -30.235123  ...    38.943869  0.067978      0.067978   \n",
      "\n",
      "     weekly_upper      yearly  yearly_lower  yearly_upper  \\\n",
      "0             NaN         NaN           NaN           NaN   \n",
      "1             NaN         NaN           NaN           NaN   \n",
      "2             NaN         NaN           NaN           NaN   \n",
      "3             NaN         NaN           NaN           NaN   \n",
      "4             NaN         NaN           NaN           NaN   \n",
      "..            ...         ...           ...           ...   \n",
      "360      5.213240 -114.009449   -114.009449   -114.009449   \n",
      "361     -0.655001 -103.527156   -103.527156   -103.527156   \n",
      "362     -5.533800  -92.500606    -92.500606    -92.500606   \n",
      "363     -1.233786  -81.036427    -81.036427    -81.036427   \n",
      "364      0.067978  -69.246970    -69.246970    -69.246970   \n",
      "\n",
      "     multiplicative_terms  multiplicative_terms_lower  \\\n",
      "0                     NaN                         NaN   \n",
      "1                     NaN                         NaN   \n",
      "2                     NaN                         NaN   \n",
      "3                     NaN                         NaN   \n",
      "4                     NaN                         NaN   \n",
      "..                    ...                         ...   \n",
      "360                   0.0                         0.0   \n",
      "361                   0.0                         0.0   \n",
      "362                   0.0                         0.0   \n",
      "363                   0.0                         0.0   \n",
      "364                   0.0                         0.0   \n",
      "\n",
      "     multiplicative_terms_upper  \n",
      "0                           NaN  \n",
      "1                           NaN  \n",
      "2                           NaN  \n",
      "3                           NaN  \n",
      "4                           NaN  \n",
      "..                          ...  \n",
      "360                         0.0  \n",
      "361                         0.0  \n",
      "362                         0.0  \n",
      "363                         0.0  \n",
      "364                         0.0  \n",
      "\n",
      "[2253 rows x 23 columns]\n"
     ]
    },
    {
     "name": "stderr",
     "output_type": "stream",
     "text": [
      "C:\\Users\\Administrator\\AppData\\Local\\Temp\\ipykernel_12456\\2228207389.py:73: FutureWarning: The frame.append method is deprecated and will be removed from pandas in a future version. Use pandas.concat instead.\n",
      "  result_df = result_df.append(result_df.tail(1).rename(columns = {\"y\": \"yhat\"}))\n",
      "C:\\Users\\Administrator\\AppData\\Local\\Temp\\ipykernel_12456\\2228207389.py:75: FutureWarning: The frame.append method is deprecated and will be removed from pandas in a future version. Use pandas.concat instead.\n",
      "  result_df = result_df.append(forecast)\n"
     ]
    },
    {
     "data": {
      "image/png": "[encoded data removed]",
      "text/plain": [
       "<Figure size 864x432 with 1 Axes>"
      ]
     },
     "metadata": {
      "needs_background": "light"
     },
     "output_type": "display_data"
    },
    {
     "data": {
      "image/png": "[encoded data removed]",
      "text/plain": [
       "<Figure size 600x400 with 1 Axes>"
      ]
     },
     "metadata": {},
     "output_type": "display_data"
    },
    {
     "data": {
      "image/png": "[encoded data removed]",
      "text/plain": [
       "<Figure size 648x864 with 4 Axes>"
      ]
     },
     "metadata": {},
     "output_type": "display_data"
    },
    {
     "data": {
      "image/png": "[encoded data removed]",
      "text/plain": [
       "<Figure size 1500x800 with 1 Axes>"
      ]
     },
     "metadata": {},
     "output_type": "display_data"
    }
   ],
   "source": [
    "import pandas as pd\n",
    "\n",
    "FILE_NAME = \"data/ethereum.csv\"\n",
    "\n",
    "eth = pd.read_csv(FILE_NAME)\n",
    "\n",
    "print(f\"{len(eth)} rows\")\n",
    "\n",
    "eth[\"Date\"] = pd.to_datetime(eth['Date'])\n",
    "\n",
    "last_date = eth[\"Date\"].max()\n",
    "\n",
    "print(f\"Latest row is from {last_date}\")\n",
    "\n",
    "eth.head()\n",
    "\n",
    "# eth.info()\n",
    "\n",
    "eth.describe()\n",
    "\n",
    "eth.plot(kind=\"line\", x=\"Date\", y=\"Close\", figsize=(12,6))\n",
    "\n",
    "prophet_data = eth[[\"Date\", \"Close\"]]\n",
    "\n",
    "prophet_data = prophet_data.rename(columns = {\n",
    "    \"Date\": \"ds\",\n",
    "    \"Close\": \"y\"\n",
    "})\n",
    "\n",
    "prophet_data.head()\n",
    "\n",
    "from prophet import Prophet\n",
    "\n",
    "prophet = Prophet(daily_seasonality=True)\n",
    "\n",
    "prophet.fit(prophet_data)\n",
    "\n",
    "print(\"Data fitted\")\n",
    "\n",
    "future = prophet.make_future_dataframe(periods=365, include_history=False)\n",
    "\n",
    "future.tail()\n",
    "\n",
    "forecast = prophet.predict(future)\n",
    "\n",
    "forecast[['ds', 'yhat', 'yhat_lower', 'yhat_upper']].tail()\n",
    "\n",
    "# forecast.info()\n",
    "\n",
    "import matplotlib as mpl\n",
    "import matplotlib.pyplot as plt\n",
    "\n",
    "fig = plt.figure(dpi=100)\n",
    "\n",
    "fig.set_facecolor(\"white\")\n",
    "\n",
    "prophet_plot_forecast_fig = prophet.plot(forecast, ax=fig.gca());\n",
    "\n",
    "prophet_plot_forecast_fig.savefig('forecast_details.png')\n",
    "\n",
    "prophet.plot_components(forecast);\n",
    "\n",
    "PLOT_COLUMS = [\n",
    "    \"Price\",\n",
    "    \"Price (forecast)\",\n",
    "]\n",
    "\n",
    "mpl.style.use(\"seaborn\")\n",
    "\n",
    "result_df = prophet_data.copy()\n",
    "\n",
    "# Add first result from forecast as y to connect dots\n",
    "result_df = result_df.append(result_df.tail(1).rename(columns = {\"y\": \"yhat\"}))\n",
    "\n",
    "result_df = result_df.append(forecast)\n",
    "\n",
    "result_df = result_df.rename(columns = {\n",
    "    \"ds\": \"Date\",\n",
    "    \"y\": \"Price\",\n",
    "    \"yhat\": \"Price (forecast)\"\n",
    "})\n",
    "\n",
    "fig = plt.figure(dpi=100)\n",
    "\n",
    "fig.set_facecolor(\"white\")\n",
    "\n",
    "plot = result_df.plot(x=\"Date\", y=PLOT_COLUMS, figsize=(15, 8), ax=fig.gca())\n",
    "\n",
    "plot_fig = plot.get_figure()\n",
    "\n",
    "plot_fig.savefig('forecast.png')\n",
    "\n",
    "print(result_df)"
   ]
  },
  {
   "cell_type": "code",
   "execution_count": null,
   "metadata": {},
   "outputs": [],
   "source": []
  }
 ],
 "metadata": {
  "accelerator": "GPU",
  "colab": {
   "authorship_tag": "ABX9TyOR17HJZK6e4IRlVS9qk3yp",
   "collapsed_sections": [],
   "mount_file_id": "1u8nLwoBdNJ8hv_RVskfL8K87zTPwTDEu",
   "name": "ethereum price prediction.ipynb",
   "provenance": []
  },
  "kernelspec": {
   "display_name": "Python 3 (ipykernel)",
   "language": "python",
   "name": "python3"
  },
  "language_info": {
   "codemirror_mode": {
    "name": "ipython",
    "version": 3
   },
   "file_extension": ".py",
   "mimetype": "text/x-python",
   "name": "python",
   "nbconvert_exporter": "python",
   "pygments_lexer": "ipython3",
   "version": "3.9.12"
  }
 },
 "nbformat": 4,
 "nbformat_minor": 1
}
